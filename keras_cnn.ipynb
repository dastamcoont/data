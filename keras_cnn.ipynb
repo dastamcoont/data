{
  "nbformat": 4,
  "nbformat_minor": 0,
  "metadata": {
    "colab": {
      "name": "keras_cnn.ipynb",
      "version": "0.3.2",
      "provenance": [],
      "collapsed_sections": [],
      "toc_visible": true,
      "include_colab_link": true
    },
    "kernelspec": {
      "name": "python3",
      "display_name": "Python 3"
    },
    "accelerator": "GPU"
  },
  "cells": [
    {
      "cell_type": "markdown",
      "metadata": {
        "id": "view-in-github",
        "colab_type": "text"
      },
      "source": [
        "[View in Colaboratory](https://colab.research.google.com/github/datamsh/data/blob/master/keras_cnn.ipynb)"
      ]
    },
    {
      "metadata": {
        "id": "7jhdOjewnXws",
        "colab_type": "text"
      },
      "cell_type": "markdown",
      "source": [
        "#keras_cnn_ mnist"
      ]
    },
    {
      "metadata": {
        "id": "u7G6rFg1jJAs",
        "colab_type": "code",
        "colab": {
          "base_uri": "https://localhost:8080/",
          "height": 36
        },
        "outputId": "d83a0ffa-eb61-45e5-e6a8-5667d5a3f6c1"
      },
      "cell_type": "code",
      "source": [
        "from google.colab import drive\n",
        "\n",
        "try:\n",
        "    MOUNTED\n",
        "except NameError as e:\n",
        "    drive.mount('/gdrive')\n",
        "    MOUNTED = True"
      ],
      "execution_count": 0,
      "outputs": [
        {
          "output_type": "stream",
          "text": [
            "Mounted at /gdrive\n"
          ],
          "name": "stdout"
        }
      ]
    },
    {
      "metadata": {
        "id": "wnoq0ZGFjZnN",
        "colab_type": "code",
        "colab": {
          "base_uri": "https://localhost:8080/",
          "height": 36
        },
        "outputId": "cb9362e5-fbf8-441e-e558-ce39077751a7"
      },
      "cell_type": "code",
      "source": [
        "pwd"
      ],
      "execution_count": 0,
      "outputs": [
        {
          "output_type": "execute_result",
          "data": {
            "text/plain": [
              "'/content'"
            ]
          },
          "metadata": {
            "tags": []
          },
          "execution_count": 5
        }
      ]
    },
    {
      "metadata": {
        "id": "SZVRcFRBovR7",
        "colab_type": "code",
        "colab": {
          "base_uri": "https://localhost:8080/",
          "height": 36
        },
        "outputId": "cad90fd7-7bdb-431a-ae59-94007d034135"
      },
      "cell_type": "code",
      "source": [
        "cd .."
      ],
      "execution_count": 0,
      "outputs": [
        {
          "output_type": "stream",
          "text": [
            "/\n"
          ],
          "name": "stdout"
        }
      ]
    },
    {
      "metadata": {
        "id": "H2W_vcProw1C",
        "colab_type": "code",
        "colab": {
          "base_uri": "https://localhost:8080/",
          "height": 481
        },
        "outputId": "98ca1526-acff-41a1-c378-037f4992021e"
      },
      "cell_type": "code",
      "source": [
        "ll"
      ],
      "execution_count": 0,
      "outputs": [
        {
          "output_type": "stream",
          "text": [
            "total 96\n",
            "drwxr-xr-x   1 root 4096 Sep 28 23:10 \u001b[0m\u001b[01;34mbin\u001b[0m/\n",
            "drwxr-xr-x   2 root 4096 Oct 16  2017 \u001b[01;34mboot\u001b[0m/\n",
            "drwxr-xr-x   9 root 4096 Sep 28 23:32 \u001b[01;34mcolabtools\u001b[0m/\n",
            "drwxr-xr-x   4 root 4096 Sep 28 23:32 \u001b[01;34mcontent\u001b[0m/\n",
            "drwxr-xr-x   3 root 4096 Sep 28 23:26 \u001b[01;34mdatalab\u001b[0m/\n",
            "drwxr-xr-x   5 root  440 Oct  2 11:16 \u001b[01;34mdev\u001b[0m/\n",
            "drwxr-xr-x   1 root 4096 Oct  2 11:16 \u001b[01;34metc\u001b[0m/\n",
            "drwx------   2 root 4096 Oct  2 11:56 \u001b[01;34mgdrive\u001b[0m/\n",
            "drwxr-xr-x   2 root 4096 Oct 16  2017 \u001b[01;34mhome\u001b[0m/\n",
            "drwxr-xr-x   1 root 4096 Sep 28 23:10 \u001b[01;34mlib\u001b[0m/\n",
            "drwxr-xr-x   2 root 4096 Jul  6 20:44 \u001b[01;34mlib64\u001b[0m/\n",
            "drwxr-xr-x   2 root 4096 Jul  6 20:44 \u001b[01;34mmedia\u001b[0m/\n",
            "drwxr-xr-x   2 root 4096 Jul  6 20:44 \u001b[01;34mmnt\u001b[0m/\n",
            "drwxr-xr-x   1 root 4096 Oct  2 11:16 \u001b[01;34mopt\u001b[0m/\n",
            "dr-xr-xr-x 111 root    0 Oct  2 11:16 \u001b[01;34mproc\u001b[0m/\n",
            "drwx------   1 root 4096 Oct  2 11:56 \u001b[01;34mroot\u001b[0m/\n",
            "drwxr-xr-x   1 root 4096 Jul 17 00:51 \u001b[01;34mrun\u001b[0m/\n",
            "drwxr-xr-x   1 root 4096 Jul 17 00:51 \u001b[01;34msbin\u001b[0m/\n",
            "drwxr-xr-x   2 root 4096 Jul  6 20:44 \u001b[01;34msrv\u001b[0m/\n",
            "dr-xr-xr-x  12 root    0 Oct  2 11:16 \u001b[01;34msys\u001b[0m/\n",
            "drwxrwxrwt   1 root 4096 Oct  2 11:56 \u001b[30;42mtmp\u001b[0m/\n",
            "drwxr-xr-x   4 root 4096 Sep 28 23:26 \u001b[01;34mtools\u001b[0m/\n",
            "drwxr-xr-x   1 root 4096 Oct  2 11:16 \u001b[01;34musr\u001b[0m/\n",
            "drwxr-xr-x   1 root 4096 Oct  2 11:16 \u001b[01;34mvar\u001b[0m/\n"
          ],
          "name": "stdout"
        }
      ]
    },
    {
      "metadata": {
        "id": "M2_DEwkWow-K",
        "colab_type": "code",
        "colab": {
          "base_uri": "https://localhost:8080/",
          "height": 36
        },
        "outputId": "314a3beb-2983-46b0-8101-82022f81dfc6"
      },
      "cell_type": "code",
      "source": [
        "cd gdrive"
      ],
      "execution_count": 0,
      "outputs": [
        {
          "output_type": "stream",
          "text": [
            "/gdrive\n"
          ],
          "name": "stdout"
        }
      ]
    },
    {
      "metadata": {
        "id": "NI5Q1tp5oxBp",
        "colab_type": "code",
        "colab": {
          "base_uri": "https://localhost:8080/",
          "height": 54
        },
        "outputId": "6372b148-f5b6-4d0d-9f6c-408ee3e69300"
      },
      "cell_type": "code",
      "source": [
        "ll"
      ],
      "execution_count": 0,
      "outputs": [
        {
          "output_type": "stream",
          "text": [
            "total 4\n",
            "drwx------ 18 root 4096 Oct  2 11:56 \u001b[0m\u001b[01;34mMy Drive\u001b[0m/\n"
          ],
          "name": "stdout"
        }
      ]
    },
    {
      "metadata": {
        "id": "w7o5D-7VnVPg",
        "colab_type": "code",
        "colab": {
          "base_uri": "https://localhost:8080/",
          "height": 36
        },
        "outputId": "8481e5d2-cbde-4584-bbdf-c09a023a63c9"
      },
      "cell_type": "code",
      "source": [
        "!ls"
      ],
      "execution_count": 0,
      "outputs": [
        {
          "output_type": "stream",
          "text": [
            "sample_data\n"
          ],
          "name": "stdout"
        }
      ]
    },
    {
      "metadata": {
        "id": "vFbpJrXuo3rI",
        "colab_type": "code",
        "colab": {
          "base_uri": "https://localhost:8080/",
          "height": 36
        },
        "outputId": "7fddced7-4589-402b-f69b-1845f443c505"
      },
      "cell_type": "code",
      "source": [
        "cd My Drive"
      ],
      "execution_count": 0,
      "outputs": [
        {
          "output_type": "stream",
          "text": [
            "/gdrive/My Drive\n"
          ],
          "name": "stdout"
        }
      ]
    },
    {
      "metadata": {
        "id": "G5OxcYOBo3n7",
        "colab_type": "code",
        "colab": {
          "base_uri": "https://localhost:8080/",
          "height": 760
        },
        "outputId": "8f4b250a-7494-444e-dcf1-3275f77d707a"
      },
      "cell_type": "code",
      "source": [
        "ll"
      ],
      "execution_count": 0,
      "outputs": [
        {
          "output_type": "stream",
          "text": [
            "total 701485\n",
            "drwx------ 2 root      4096 Aug 23  2017 \u001b[0m\u001b[01;34m글 창고\u001b[0m/\n",
            "drwx------ 2 root      4096 Aug 23  2017 \u001b[01;34m자바\u001b[0m/\n",
            "drwx------ 2 root      4096 Sep  4 00:59 \u001b[01;34m액자\u001b[0m/\n",
            "drwx------ 2 root      4096 Aug 23  2017 \u001b[01;34m영어\u001b[0m/\n",
            "drwx------ 2 root      4096 Aug 23  2017 \u001b[01;34m사진\u001b[0m/\n",
            "drwx------ 2 root      4096 Jun  2  2017 \u001b[01;34m아직 안들은 과목 족보\u001b[0m\u001b[K/\n",
            "drwx------ 2 root      4096 Aug 25  2017 \u001b[01;34m시뮬,파이썬\u001b[0m/\n",
            "drwx------ 2 root      4096 Feb  4  2018 \u001b[01;34m전산실\u001b[0m/\n",
            "drwx------ 2 root      4096 Aug 23  2017 \u001b[01;34m임시메모\u001b[0m/\n",
            "drwx------ 2 root      4096 Aug 23  2017 \u001b[01;34m쓰레기통\u001b[0m/\n",
            "-rw------- 1 root         1 Jul 16 04:34 이력서 (1).gdoc\n",
            "drwx------ 2 root      4096 Jun  2  2017 \u001b[01;34m2학년\u001b[0m/\n",
            "-rw------- 1 root    522892 Sep 27  2017 201427519_문성환_과제4.zip\n",
            "-rw------- 1 root     33352 Jun  2  2017 2017-04-28 21;01;58.PNG\n",
            "drwx------ 2 root      4096 Mar  6  2018 \u001b[01;34m3학년\u001b[0m/\n",
            "-rw------- 1 root      1448 Apr 24 05:43 4월.txt\n",
            "-rw------- 1 root       198 Sep 19  2017 amplRM2.mod\n",
            "-rw------- 1 root       138 Sep 19  2017 amplRM3.dat\n",
            "drwx------ 2 root      4096 Sep 21 02:49 \u001b[01;34mColab Notebooks\u001b[0m/\n",
            "-rw------- 1 root    426065 Jul 25 19:53 confucius 551 479.png\n",
            "drwx------ 2 root      4096 Sep 21 03:19 \u001b[01;34mdeep_msh\u001b[0m/\n",
            "-rw------- 1 root      4799 Jan 24  2018 delivery_app.xml\n",
            "-rw------- 1 root 338186950 Oct 21  2017 Desktop.zip\n",
            "-rw------- 1 root         1 Jul 16 07:58 이력서.gdoc\n",
            "-rw------- 1 root    643267 Jul 25 19:53 hwan_.pptx\n",
            "-rw------- 1 root    117760 Oct 13  2017 자바.hwp\n",
            "-rw------- 1 root     18944 Oct 24  2017 데이터 분석 특강.hwp\n",
            "-rw------- 1 root     20992 Mar 19  2018 기술경영.hwp\n",
            "drwx------ 2 root      4096 Feb  4  2018 \u001b[01;34migbank\u001b[0m/\n",
            "-rw------- 1 root 367517024 Nov  2  2017 IMG.pdf\n",
            "-rw------- 1 root       930 Mar 19  2018 jj.cpp\n",
            "-rw------- 1 root     64560 Oct 31  2017 K-001.png\n",
            "-rw------- 1 root    118687 Oct 31  2017 KakaoTalk_20171031_104251808.png\n",
            "-rw------- 1 root  10559801 Sep 27  2017 ORSOLUTION MANUAL-1.pdf\n",
            "drwx------ 2 root      4096 Aug 22  2017 \u001b[01;34mR공부\u001b[0m/\n",
            "-rw------- 1 root         1 Jul 18 08:45 seonghwan  resume.gdoc\n",
            "-rw------- 1 root         1 Jul 18 08:51 seonghwan resume.gdoc\n",
            "-rw------- 1 root      6456 Apr  2  2018 새 텍스트 문서.txt\n",
            "-rw------- 1 root      4062 Apr 16 07:39 야구.txt\n"
          ],
          "name": "stdout"
        }
      ]
    },
    {
      "metadata": {
        "id": "N4veo8ZmjZyt",
        "colab_type": "code",
        "colab": {
          "base_uri": "https://localhost:8080/",
          "height": 147
        },
        "outputId": "731056bc-99b2-4fd9-ad72-2c56110a08fd"
      },
      "cell_type": "code",
      "source": [
        "ll"
      ],
      "execution_count": 0,
      "outputs": [
        {
          "output_type": "stream",
          "text": [
            "total 2383\n",
            "drwx------ 2 root    4096 Oct  2 11:46 \u001b[0m\u001b[01;34m제목없는 폴더\u001b[0m/\n",
            "drwx------ 2 root    4096 Oct  2 11:45 \u001b[01;34mfruits-360\u001b[0m/\n",
            "-rw------- 1 root    9080 Oct  2 11:23 IMAGE.PNG\n",
            "-rw------- 1 root  199586 Oct  2 11:57 keras_cnn.ipynb\n",
            "-rw------- 1 root   45153 Sep 30 09:46 msh_etc_codes.ipynb\n",
            "-rw------- 1 root 2177004 Oct  1 12:21 Untitled0.ipynb\n"
          ],
          "name": "stdout"
        }
      ]
    },
    {
      "metadata": {
        "id": "V6EM6fJknHyp",
        "colab_type": "code",
        "colab": {
          "base_uri": "https://localhost:8080/",
          "height": 36
        },
        "outputId": "58d6bd0b-420d-488f-81f5-52faa538bf30"
      },
      "cell_type": "code",
      "source": [
        "cd deep_msh/"
      ],
      "execution_count": 0,
      "outputs": [
        {
          "output_type": "stream",
          "text": [
            "/gdrive/My Drive/deep_msh\n"
          ],
          "name": "stdout"
        }
      ]
    },
    {
      "metadata": {
        "id": "DOevdnQ-nHvU",
        "colab_type": "code",
        "colab": {}
      },
      "cell_type": "code",
      "source": [
        ""
      ],
      "execution_count": 0,
      "outputs": []
    },
    {
      "metadata": {
        "id": "tgDPFZUfnbLp",
        "colab_type": "code",
        "colab": {
          "base_uri": "https://localhost:8080/",
          "height": 35
        },
        "outputId": "633d7386-5ab4-447f-d1c6-0aa7d0502081"
      },
      "cell_type": "code",
      "source": [
        "import numpy\n",
        "from keras.models import Sequential\n",
        "from keras.layers import Dense\n",
        "from keras.layers import Flatten\n",
        "from keras.layers.convolutional import Conv2D\n",
        "from keras.layers.convolutional import MaxPooling2D\n",
        "from keras.utils import np_utils\n"
      ],
      "execution_count": 0,
      "outputs": [
        {
          "output_type": "stream",
          "text": [
            "Using TensorFlow backend.\n"
          ],
          "name": "stderr"
        }
      ]
    },
    {
      "metadata": {
        "id": "yfgn9lqyAmqP",
        "colab_type": "code",
        "colab": {}
      },
      "cell_type": "code",
      "source": [
        "model = Sequential()\n",
        "\n",
        "model.add(Conv2D(2, (3, 3), padding='same', activation='relu', input_shape=(8, 8, 1)))\n",
        "model.add(MaxPooling2D(pool_size=(2, 2)))\n",
        "model.add(Conv2D(3, (2, 2), padding='same', activation='relu'))\n",
        "model.add(MaxPooling2D(pool_size=(2, 2)))\n",
        "model.add(Flatten())\n",
        "model.add(Dense(8, activation='relu'))\n",
        "model.add(Dense(3, activation='softmax'))"
      ],
      "execution_count": 0,
      "outputs": []
    },
    {
      "metadata": {
        "id": "HT0WyFMpAsYF",
        "colab_type": "code",
        "colab": {
          "base_uri": "https://localhost:8080/",
          "height": 2712
        },
        "outputId": "07667289-5ca0-467f-8d30-b081cb1549b0"
      },
      "cell_type": "code",
      "source": [
        "!apt-get -qq install -y graphviz && pip install -q pydot\n",
        "import pydot\n",
        "from IPython.display import SVG\n",
        "from keras.utils.vis_utils import model_to_dot\n",
        "\n",
        "%matplotlib inline\n",
        "\n",
        "SVG(model_to_dot(model, show_shapes=True).create(prog='dot', format='svg'))"
      ],
      "execution_count": 0,
      "outputs": [
        {
          "output_type": "stream",
          "text": [
            "Selecting previously unselected package fontconfig.\n",
            "(Reading database ... \r(Reading database ... 5%\r(Reading database ... 10%\r(Reading database ... 15%\r(Reading database ... 20%\r(Reading database ... 25%\r(Reading database ... 30%\r(Reading database ... 35%\r(Reading database ... 40%\r(Reading database ... 45%\r(Reading database ... 50%\r(Reading database ... 55%\r(Reading database ... 60%\r(Reading database ... 65%\r(Reading database ... 70%\r(Reading database ... 75%\r(Reading database ... 80%\r(Reading database ... 85%\r(Reading database ... 90%\r(Reading database ... 95%\r(Reading database ... 100%\r(Reading database ... 18408 files and directories currently installed.)\n",
            "Preparing to unpack .../00-fontconfig_2.11.94-0ubuntu2_amd64.deb ...\n",
            "Unpacking fontconfig (2.11.94-0ubuntu2) ...\n",
            "Selecting previously unselected package libjbig0:amd64.\n",
            "Preparing to unpack .../01-libjbig0_2.1-3.1_amd64.deb ...\n",
            "Unpacking libjbig0:amd64 (2.1-3.1) ...\n",
            "Selecting previously unselected package libcdt5.\n",
            "Preparing to unpack .../02-libcdt5_2.38.0-16ubuntu2_amd64.deb ...\n",
            "Unpacking libcdt5 (2.38.0-16ubuntu2) ...\n",
            "Selecting previously unselected package libcgraph6.\n",
            "Preparing to unpack .../03-libcgraph6_2.38.0-16ubuntu2_amd64.deb ...\n",
            "Unpacking libcgraph6 (2.38.0-16ubuntu2) ...\n",
            "Selecting previously unselected package libtiff5:amd64.\n",
            "Preparing to unpack .../04-libtiff5_4.0.8-5ubuntu0.1_amd64.deb ...\n",
            "Unpacking libtiff5:amd64 (4.0.8-5ubuntu0.1) ...\n",
            "Selecting previously unselected package libwebp6:amd64.\n",
            "Preparing to unpack .../05-libwebp6_0.6.0-3_amd64.deb ...\n",
            "Unpacking libwebp6:amd64 (0.6.0-3) ...\n",
            "Selecting previously unselected package libxpm4:amd64.\n",
            "Preparing to unpack .../06-libxpm4_1%3a3.5.12-1_amd64.deb ...\n",
            "Unpacking libxpm4:amd64 (1:3.5.12-1) ...\n",
            "Selecting previously unselected package libgd3:amd64.\n",
            "Preparing to unpack .../07-libgd3_2.2.5-3_amd64.deb ...\n",
            "Unpacking libgd3:amd64 (2.2.5-3) ...\n",
            "Selecting previously unselected package libpixman-1-0:amd64.\n",
            "Preparing to unpack .../08-libpixman-1-0_0.34.0-1_amd64.deb ...\n",
            "Unpacking libpixman-1-0:amd64 (0.34.0-1) ...\n",
            "Selecting previously unselected package libxcb-render0:amd64.\n",
            "Preparing to unpack .../09-libxcb-render0_1.12-1ubuntu1_amd64.deb ...\n",
            "Unpacking libxcb-render0:amd64 (1.12-1ubuntu1) ...\n",
            "Selecting previously unselected package libxcb-shm0:amd64.\n",
            "Preparing to unpack .../10-libxcb-shm0_1.12-1ubuntu1_amd64.deb ...\n",
            "Unpacking libxcb-shm0:amd64 (1.12-1ubuntu1) ...\n",
            "Selecting previously unselected package libcairo2:amd64.\n",
            "Preparing to unpack .../11-libcairo2_1.14.10-1ubuntu1_amd64.deb ...\n",
            "Unpacking libcairo2:amd64 (1.14.10-1ubuntu1) ...\n",
            "Selecting previously unselected package libltdl7:amd64.\n",
            "Preparing to unpack .../12-libltdl7_2.4.6-2_amd64.deb ...\n",
            "Unpacking libltdl7:amd64 (2.4.6-2) ...\n",
            "Selecting previously unselected package libthai-data.\n",
            "Preparing to unpack .../13-libthai-data_0.1.26-3_all.deb ...\n",
            "Unpacking libthai-data (0.1.26-3) ...\n",
            "Selecting previously unselected package libdatrie1:amd64.\n",
            "Preparing to unpack .../14-libdatrie1_0.2.10-5_amd64.deb ...\n",
            "Unpacking libdatrie1:amd64 (0.2.10-5) ...\n",
            "Selecting previously unselected package libthai0:amd64.\n",
            "Preparing to unpack .../15-libthai0_0.1.26-3_amd64.deb ...\n",
            "Unpacking libthai0:amd64 (0.1.26-3) ...\n",
            "Selecting previously unselected package libpango-1.0-0:amd64.\n",
            "Preparing to unpack .../16-libpango-1.0-0_1.40.12-1_amd64.deb ...\n",
            "Unpacking libpango-1.0-0:amd64 (1.40.12-1) ...\n",
            "Selecting previously unselected package libgraphite2-3:amd64.\n",
            "Preparing to unpack .../17-libgraphite2-3_1.3.10-2_amd64.deb ...\n",
            "Unpacking libgraphite2-3:amd64 (1.3.10-2) ...\n",
            "Selecting previously unselected package libharfbuzz0b:amd64.\n",
            "Preparing to unpack .../18-libharfbuzz0b_1.4.2-1_amd64.deb ...\n",
            "Unpacking libharfbuzz0b:amd64 (1.4.2-1) ...\n",
            "Selecting previously unselected package libpangoft2-1.0-0:amd64.\n",
            "Preparing to unpack .../19-libpangoft2-1.0-0_1.40.12-1_amd64.deb ...\n",
            "Unpacking libpangoft2-1.0-0:amd64 (1.40.12-1) ...\n",
            "Selecting previously unselected package libpangocairo-1.0-0:amd64.\n",
            "Preparing to unpack .../20-libpangocairo-1.0-0_1.40.12-1_amd64.deb ...\n",
            "Unpacking libpangocairo-1.0-0:amd64 (1.40.12-1) ...\n",
            "Selecting previously unselected package libpathplan4.\n",
            "Preparing to unpack .../21-libpathplan4_2.38.0-16ubuntu2_amd64.deb ...\n",
            "Unpacking libpathplan4 (2.38.0-16ubuntu2) ...\n",
            "Selecting previously unselected package libgvc6.\n",
            "Preparing to unpack .../22-libgvc6_2.38.0-16ubuntu2_amd64.deb ...\n",
            "Unpacking libgvc6 (2.38.0-16ubuntu2) ...\n",
            "Selecting previously unselected package libgvpr2.\n",
            "Preparing to unpack .../23-libgvpr2_2.38.0-16ubuntu2_amd64.deb ...\n",
            "Unpacking libgvpr2 (2.38.0-16ubuntu2) ...\n",
            "Selecting previously unselected package libxt6:amd64.\n",
            "Preparing to unpack .../24-libxt6_1%3a1.1.5-1_amd64.deb ...\n",
            "Unpacking libxt6:amd64 (1:1.1.5-1) ...\n",
            "Selecting previously unselected package libxmu6:amd64.\n",
            "Preparing to unpack .../25-libxmu6_2%3a1.1.2-2_amd64.deb ...\n",
            "Unpacking libxmu6:amd64 (2:1.1.2-2) ...\n",
            "Selecting previously unselected package libxaw7:amd64.\n",
            "Preparing to unpack .../26-libxaw7_2%3a1.0.13-1_amd64.deb ...\n",
            "Unpacking libxaw7:amd64 (2:1.0.13-1) ...\n",
            "Selecting previously unselected package graphviz.\n",
            "Preparing to unpack .../27-graphviz_2.38.0-16ubuntu2_amd64.deb ...\n",
            "Unpacking graphviz (2.38.0-16ubuntu2) ...\n",
            "Setting up libpathplan4 (2.38.0-16ubuntu2) ...\n",
            "Setting up libxcb-render0:amd64 (1.12-1ubuntu1) ...\n",
            "Setting up libjbig0:amd64 (2.1-3.1) ...\n",
            "Setting up libdatrie1:amd64 (0.2.10-5) ...\n",
            "Setting up libtiff5:amd64 (4.0.8-5ubuntu0.1) ...\n",
            "Setting up libgraphite2-3:amd64 (1.3.10-2) ...\n",
            "Setting up libpixman-1-0:amd64 (0.34.0-1) ...\n",
            "Processing triggers for libc-bin (2.26-0ubuntu2.1) ...\n",
            "Setting up libltdl7:amd64 (2.4.6-2) ...\n",
            "Setting up libxcb-shm0:amd64 (1.12-1ubuntu1) ...\n",
            "Setting up libxpm4:amd64 (1:3.5.12-1) ...\n",
            "Setting up libxt6:amd64 (1:1.1.5-1) ...\n",
            "Setting up libthai-data (0.1.26-3) ...\n",
            "Setting up libcdt5 (2.38.0-16ubuntu2) ...\n",
            "Setting up fontconfig (2.11.94-0ubuntu2) ...\n",
            "Regenerating fonts cache... done.\n",
            "Setting up libcgraph6 (2.38.0-16ubuntu2) ...\n",
            "Setting up libwebp6:amd64 (0.6.0-3) ...\n",
            "Setting up libcairo2:amd64 (1.14.10-1ubuntu1) ...\n",
            "Setting up libgvpr2 (2.38.0-16ubuntu2) ...\n",
            "Setting up libgd3:amd64 (2.2.5-3) ...\n",
            "Setting up libharfbuzz0b:amd64 (1.4.2-1) ...\n",
            "Setting up libthai0:amd64 (0.1.26-3) ...\n",
            "Setting up libxmu6:amd64 (2:1.1.2-2) ...\n",
            "Setting up libpango-1.0-0:amd64 (1.40.12-1) ...\n",
            "Setting up libxaw7:amd64 (2:1.0.13-1) ...\n",
            "Setting up libpangoft2-1.0-0:amd64 (1.40.12-1) ...\n",
            "Setting up libpangocairo-1.0-0:amd64 (1.40.12-1) ...\n",
            "Setting up libgvc6 (2.38.0-16ubuntu2) ...\n",
            "Setting up graphviz (2.38.0-16ubuntu2) ...\n",
            "Processing triggers for libc-bin (2.26-0ubuntu2.1) ...\n"
          ],
          "name": "stdout"
        },
        {
          "output_type": "error",
          "ename": "ImportError",
          "evalue": "ignored",
          "traceback": [
            "\u001b[0;31m---------------------------------------------------------------------------\u001b[0m",
            "\u001b[0;31mImportError\u001b[0m                               Traceback (most recent call last)",
            "\u001b[0;32m<ipython-input-9-0db56f58925f>\u001b[0m in \u001b[0;36m<module>\u001b[0;34m()\u001b[0m\n\u001b[1;32m      6\u001b[0m \u001b[0mget_ipython\u001b[0m\u001b[0;34m(\u001b[0m\u001b[0;34m)\u001b[0m\u001b[0;34m.\u001b[0m\u001b[0mmagic\u001b[0m\u001b[0;34m(\u001b[0m\u001b[0;34m'matplotlib inline'\u001b[0m\u001b[0;34m)\u001b[0m\u001b[0;34m\u001b[0m\u001b[0m\n\u001b[1;32m      7\u001b[0m \u001b[0;34m\u001b[0m\u001b[0m\n\u001b[0;32m----> 8\u001b[0;31m \u001b[0mSVG\u001b[0m\u001b[0;34m(\u001b[0m\u001b[0mmodel_to_dot\u001b[0m\u001b[0;34m(\u001b[0m\u001b[0mmodel\u001b[0m\u001b[0;34m,\u001b[0m \u001b[0mshow_shapes\u001b[0m\u001b[0;34m=\u001b[0m\u001b[0;32mTrue\u001b[0m\u001b[0;34m)\u001b[0m\u001b[0;34m.\u001b[0m\u001b[0mcreate\u001b[0m\u001b[0;34m(\u001b[0m\u001b[0mprog\u001b[0m\u001b[0;34m=\u001b[0m\u001b[0;34m'dot'\u001b[0m\u001b[0;34m,\u001b[0m \u001b[0mformat\u001b[0m\u001b[0;34m=\u001b[0m\u001b[0;34m'svg'\u001b[0m\u001b[0;34m)\u001b[0m\u001b[0;34m)\u001b[0m\u001b[0;34m\u001b[0m\u001b[0m\n\u001b[0m",
            "\u001b[0;32m/usr/local/lib/python3.6/dist-packages/keras/utils/vis_utils.py\u001b[0m in \u001b[0;36mmodel_to_dot\u001b[0;34m(model, show_shapes, show_layer_names, rankdir)\u001b[0m\n\u001b[1;32m     53\u001b[0m     \u001b[0;32mfrom\u001b[0m \u001b[0;34m.\u001b[0m\u001b[0;34m.\u001b[0m\u001b[0mmodels\u001b[0m \u001b[0;32mimport\u001b[0m \u001b[0mSequential\u001b[0m\u001b[0;34m\u001b[0m\u001b[0m\n\u001b[1;32m     54\u001b[0m \u001b[0;34m\u001b[0m\u001b[0m\n\u001b[0;32m---> 55\u001b[0;31m     \u001b[0m_check_pydot\u001b[0m\u001b[0;34m(\u001b[0m\u001b[0;34m)\u001b[0m\u001b[0;34m\u001b[0m\u001b[0m\n\u001b[0m\u001b[1;32m     56\u001b[0m     \u001b[0mdot\u001b[0m \u001b[0;34m=\u001b[0m \u001b[0mpydot\u001b[0m\u001b[0;34m.\u001b[0m\u001b[0mDot\u001b[0m\u001b[0;34m(\u001b[0m\u001b[0;34m)\u001b[0m\u001b[0;34m\u001b[0m\u001b[0m\n\u001b[1;32m     57\u001b[0m     \u001b[0mdot\u001b[0m\u001b[0;34m.\u001b[0m\u001b[0mset\u001b[0m\u001b[0;34m(\u001b[0m\u001b[0;34m'rankdir'\u001b[0m\u001b[0;34m,\u001b[0m \u001b[0mrankdir\u001b[0m\u001b[0;34m)\u001b[0m\u001b[0;34m\u001b[0m\u001b[0m\n",
            "\u001b[0;32m/usr/local/lib/python3.6/dist-packages/keras/utils/vis_utils.py\u001b[0m in \u001b[0;36m_check_pydot\u001b[0;34m()\u001b[0m\n\u001b[1;32m     18\u001b[0m     \u001b[0;32mif\u001b[0m \u001b[0mpydot\u001b[0m \u001b[0;32mis\u001b[0m \u001b[0;32mNone\u001b[0m\u001b[0;34m:\u001b[0m\u001b[0;34m\u001b[0m\u001b[0m\n\u001b[1;32m     19\u001b[0m         raise ImportError(\n\u001b[0;32m---> 20\u001b[0;31m             \u001b[0;34m'Failed to import `pydot`. '\u001b[0m\u001b[0;34m\u001b[0m\u001b[0m\n\u001b[0m\u001b[1;32m     21\u001b[0m             \u001b[0;34m'Please install `pydot`. '\u001b[0m\u001b[0;34m\u001b[0m\u001b[0m\n\u001b[1;32m     22\u001b[0m             'For example with `pip install pydot`.')\n",
            "\u001b[0;31mImportError\u001b[0m: Failed to import `pydot`. Please install `pydot`. For example with `pip install pydot`.",
            "",
            "\u001b[0;31m---------------------------------------------------------------------------\u001b[0;32m\nNOTE: If your import is failing due to a missing package, you can\nmanually install dependencies using either !pip or !apt.\n\nTo view examples of installing some common dependencies, click the\n\"Open Examples\" button below.\n\u001b[0;31m---------------------------------------------------------------------------\u001b[0m\n"
          ]
        }
      ]
    },
    {
      "metadata": {
        "id": "GtYys4IrA4tV",
        "colab_type": "code",
        "colab": {
          "base_uri": "https://localhost:8080/",
          "height": 34
        },
        "outputId": "9e19e543-fc59-49c7-ef43-455d1a29e666"
      },
      "cell_type": "code",
      "source": [
        "import numpy as np\n",
        "from keras.models import Sequential\n",
        "from keras.layers import Dense\n",
        "from keras.layers import Flatten\n",
        "from keras.layers.convolutional import Conv2D\n",
        "from keras.layers.convolutional import MaxPooling2D\n",
        "from keras.preprocessing.image import ImageDataGenerator\n",
        "\n",
        "# 랜덤시드 고정시키기\n",
        "np.random.seed(3)"
      ],
      "execution_count": 0,
      "outputs": [
        {
          "output_type": "stream",
          "text": [
            "Using TensorFlow backend.\n"
          ],
          "name": "stderr"
        }
      ]
    },
    {
      "metadata": {
        "id": "yOQZl3YqB8z-",
        "colab_type": "code",
        "colab": {}
      },
      "cell_type": "code",
      "source": [
        "import tensorflow as tf\n",
        "import random\n",
        "\n",
        "from tensorflow.examples.tutorials.mnist import input_data"
      ],
      "execution_count": 0,
      "outputs": []
    },
    {
      "metadata": {
        "id": "I549VoxMkjbC",
        "colab_type": "code",
        "colab": {
          "base_uri": "https://localhost:8080/",
          "height": 547
        },
        "outputId": "90823f00-73bd-4412-aa19-b573c92cf78f"
      },
      "cell_type": "code",
      "source": [
        "mnist = input_data.read_data_sets(\"MNIST_data/\", one_hot=True)"
      ],
      "execution_count": 0,
      "outputs": [
        {
          "output_type": "stream",
          "text": [
            "WARNING:tensorflow:From <ipython-input-5-a839aeb82f4b>:1: read_data_sets (from tensorflow.contrib.learn.python.learn.datasets.mnist) is deprecated and will be removed in a future version.\n",
            "Instructions for updating:\n",
            "Please use alternatives such as official/mnist/dataset.py from tensorflow/models.\n",
            "WARNING:tensorflow:From /usr/local/lib/python3.6/dist-packages/tensorflow/contrib/learn/python/learn/datasets/mnist.py:260: maybe_download (from tensorflow.contrib.learn.python.learn.datasets.base) is deprecated and will be removed in a future version.\n",
            "Instructions for updating:\n",
            "Please write your own downloading logic.\n",
            "WARNING:tensorflow:From /usr/local/lib/python3.6/dist-packages/tensorflow/contrib/learn/python/learn/datasets/base.py:252: _internal_retry.<locals>.wrap.<locals>.wrapped_fn (from tensorflow.contrib.learn.python.learn.datasets.base) is deprecated and will be removed in a future version.\n",
            "Instructions for updating:\n",
            "Please use urllib or similar directly.\n",
            "Successfully downloaded train-images-idx3-ubyte.gz 9912422 bytes.\n",
            "WARNING:tensorflow:From /usr/local/lib/python3.6/dist-packages/tensorflow/contrib/learn/python/learn/datasets/mnist.py:262: extract_images (from tensorflow.contrib.learn.python.learn.datasets.mnist) is deprecated and will be removed in a future version.\n",
            "Instructions for updating:\n",
            "Please use tf.data to implement this functionality.\n",
            "Extracting MNIST_data/train-images-idx3-ubyte.gz\n",
            "Successfully downloaded train-labels-idx1-ubyte.gz 28881 bytes.\n",
            "WARNING:tensorflow:From /usr/local/lib/python3.6/dist-packages/tensorflow/contrib/learn/python/learn/datasets/mnist.py:267: extract_labels (from tensorflow.contrib.learn.python.learn.datasets.mnist) is deprecated and will be removed in a future version.\n",
            "Instructions for updating:\n",
            "Please use tf.data to implement this functionality.\n",
            "Extracting MNIST_data/train-labels-idx1-ubyte.gz\n",
            "WARNING:tensorflow:From /usr/local/lib/python3.6/dist-packages/tensorflow/contrib/learn/python/learn/datasets/mnist.py:110: dense_to_one_hot (from tensorflow.contrib.learn.python.learn.datasets.mnist) is deprecated and will be removed in a future version.\n",
            "Instructions for updating:\n",
            "Please use tf.one_hot on tensors.\n",
            "Successfully downloaded t10k-images-idx3-ubyte.gz 1648877 bytes.\n",
            "Extracting MNIST_data/t10k-images-idx3-ubyte.gz\n",
            "Successfully downloaded t10k-labels-idx1-ubyte.gz 4542 bytes.\n",
            "Extracting MNIST_data/t10k-labels-idx1-ubyte.gz\n",
            "WARNING:tensorflow:From /usr/local/lib/python3.6/dist-packages/tensorflow/contrib/learn/python/learn/datasets/mnist.py:290: DataSet.__init__ (from tensorflow.contrib.learn.python.learn.datasets.mnist) is deprecated and will be removed in a future version.\n",
            "Instructions for updating:\n",
            "Please use alternatives such as official/mnist/dataset.py from tensorflow/models.\n"
          ],
          "name": "stdout"
        }
      ]
    },
    {
      "metadata": {
        "id": "VcdkXWaYkth_",
        "colab_type": "code",
        "colab": {}
      },
      "cell_type": "code",
      "source": [
        "model = Sequential()\n",
        "model.add(Conv2D(32, kernel_size=(3, 3),\n",
        "                 activation='relu',\n",
        "                 input_shape=(28,28,1)))\n",
        "model.add(Conv2D(64, (3, 3), activation='relu'))\n",
        "model.add(MaxPooling2D(pool_size=(2, 2)))\n",
        "model.add(Flatten())\n",
        "model.add(Dense(128, activation='relu'))\n",
        "model.add(Dense(3, activation='softmax'))\n"
      ],
      "execution_count": 0,
      "outputs": []
    },
    {
      "metadata": {
        "id": "NPMaD8oqmbiN",
        "colab_type": "code",
        "colab": {
          "base_uri": "https://localhost:8080/",
          "height": 380
        },
        "outputId": "26f6dbf9-a42a-499e-95bb-95d92db8794e"
      },
      "cell_type": "code",
      "source": [
        "!pip install SVG\n",
        "import SVG"
      ],
      "execution_count": 0,
      "outputs": [
        {
          "output_type": "stream",
          "text": [
            "Collecting SVG\n",
            "\u001b[31m  Could not find a version that satisfies the requirement SVG (from versions: )\u001b[0m\n",
            "\u001b[31mNo matching distribution found for SVG\u001b[0m\n"
          ],
          "name": "stdout"
        },
        {
          "output_type": "error",
          "ename": "ModuleNotFoundError",
          "evalue": "ignored",
          "traceback": [
            "\u001b[0;31m---------------------------------------------------------------------------\u001b[0m",
            "\u001b[0;31mModuleNotFoundError\u001b[0m                       Traceback (most recent call last)",
            "\u001b[0;32m<ipython-input-10-c77ccfadd92f>\u001b[0m in \u001b[0;36m<module>\u001b[0;34m()\u001b[0m\n\u001b[1;32m      1\u001b[0m \u001b[0mget_ipython\u001b[0m\u001b[0;34m(\u001b[0m\u001b[0;34m)\u001b[0m\u001b[0;34m.\u001b[0m\u001b[0msystem\u001b[0m\u001b[0;34m(\u001b[0m\u001b[0;34m'pip install SVG'\u001b[0m\u001b[0;34m)\u001b[0m\u001b[0;34m\u001b[0m\u001b[0m\n\u001b[0;32m----> 2\u001b[0;31m \u001b[0;32mimport\u001b[0m \u001b[0mSVG\u001b[0m\u001b[0;34m\u001b[0m\u001b[0m\n\u001b[0m",
            "\u001b[0;31mModuleNotFoundError\u001b[0m: No module named 'SVG'",
            "",
            "\u001b[0;31m---------------------------------------------------------------------------\u001b[0;32m\nNOTE: If your import is failing due to a missing package, you can\nmanually install dependencies using either !pip or !apt.\n\nTo view examples of installing some common dependencies, click the\n\"Open Examples\" button below.\n\u001b[0;31m---------------------------------------------------------------------------\u001b[0m\n"
          ]
        }
      ]
    },
    {
      "metadata": {
        "id": "CXjaamfTmmlC",
        "colab_type": "code",
        "colab": {
          "base_uri": "https://localhost:8080/",
          "height": 2058
        },
        "outputId": "28931504-725b-49df-86a4-be36fec5eca4"
      },
      "cell_type": "code",
      "source": [
        "!apt-get -qq install -y graphviz && pip install -q pydot\n",
        "import pydot"
      ],
      "execution_count": 0,
      "outputs": [
        {
          "output_type": "stream",
          "text": [
            "Selecting previously unselected package fontconfig.\n",
            "(Reading database ... \r(Reading database ... 5%\r(Reading database ... 10%\r(Reading database ... 15%\r(Reading database ... 20%\r(Reading database ... 25%\r(Reading database ... 30%\r(Reading database ... 35%\r(Reading database ... 40%\r(Reading database ... 45%\r(Reading database ... 50%\r(Reading database ... 55%\r(Reading database ... 60%\r(Reading database ... 65%\r(Reading database ... 70%\r(Reading database ... 75%\r(Reading database ... 80%\r(Reading database ... 85%\r(Reading database ... 90%\r(Reading database ... 95%\r(Reading database ... 100%\r(Reading database ... 18408 files and directories currently installed.)\n",
            "Preparing to unpack .../00-fontconfig_2.11.94-0ubuntu2_amd64.deb ...\n",
            "Unpacking fontconfig (2.11.94-0ubuntu2) ...\n",
            "Selecting previously unselected package libjbig0:amd64.\n",
            "Preparing to unpack .../01-libjbig0_2.1-3.1_amd64.deb ...\n",
            "Unpacking libjbig0:amd64 (2.1-3.1) ...\n",
            "Selecting previously unselected package libcdt5.\n",
            "Preparing to unpack .../02-libcdt5_2.38.0-16ubuntu2_amd64.deb ...\n",
            "Unpacking libcdt5 (2.38.0-16ubuntu2) ...\n",
            "Selecting previously unselected package libcgraph6.\n",
            "Preparing to unpack .../03-libcgraph6_2.38.0-16ubuntu2_amd64.deb ...\n",
            "Unpacking libcgraph6 (2.38.0-16ubuntu2) ...\n",
            "Selecting previously unselected package libtiff5:amd64.\n",
            "Preparing to unpack .../04-libtiff5_4.0.8-5ubuntu0.1_amd64.deb ...\n",
            "Unpacking libtiff5:amd64 (4.0.8-5ubuntu0.1) ...\n",
            "Selecting previously unselected package libwebp6:amd64.\n",
            "Preparing to unpack .../05-libwebp6_0.6.0-3_amd64.deb ...\n",
            "Unpacking libwebp6:amd64 (0.6.0-3) ...\n",
            "Selecting previously unselected package libxpm4:amd64.\n",
            "Preparing to unpack .../06-libxpm4_1%3a3.5.12-1_amd64.deb ...\n",
            "Unpacking libxpm4:amd64 (1:3.5.12-1) ...\n",
            "Selecting previously unselected package libgd3:amd64.\n",
            "Preparing to unpack .../07-libgd3_2.2.5-3_amd64.deb ...\n",
            "Unpacking libgd3:amd64 (2.2.5-3) ...\n",
            "Selecting previously unselected package libpixman-1-0:amd64.\n",
            "Preparing to unpack .../08-libpixman-1-0_0.34.0-1_amd64.deb ...\n",
            "Unpacking libpixman-1-0:amd64 (0.34.0-1) ...\n",
            "Selecting previously unselected package libxcb-render0:amd64.\n",
            "Preparing to unpack .../09-libxcb-render0_1.12-1ubuntu1_amd64.deb ...\n",
            "Unpacking libxcb-render0:amd64 (1.12-1ubuntu1) ...\n",
            "Selecting previously unselected package libxcb-shm0:amd64.\n",
            "Preparing to unpack .../10-libxcb-shm0_1.12-1ubuntu1_amd64.deb ...\n",
            "Unpacking libxcb-shm0:amd64 (1.12-1ubuntu1) ...\n",
            "Selecting previously unselected package libcairo2:amd64.\n",
            "Preparing to unpack .../11-libcairo2_1.14.10-1ubuntu1_amd64.deb ...\n",
            "Unpacking libcairo2:amd64 (1.14.10-1ubuntu1) ...\n",
            "Selecting previously unselected package libltdl7:amd64.\n",
            "Preparing to unpack .../12-libltdl7_2.4.6-2_amd64.deb ...\n",
            "Unpacking libltdl7:amd64 (2.4.6-2) ...\n",
            "Selecting previously unselected package libthai-data.\n",
            "Preparing to unpack .../13-libthai-data_0.1.26-3_all.deb ...\n",
            "Unpacking libthai-data (0.1.26-3) ...\n",
            "Selecting previously unselected package libdatrie1:amd64.\n",
            "Preparing to unpack .../14-libdatrie1_0.2.10-5_amd64.deb ...\n",
            "Unpacking libdatrie1:amd64 (0.2.10-5) ...\n",
            "Selecting previously unselected package libthai0:amd64.\n",
            "Preparing to unpack .../15-libthai0_0.1.26-3_amd64.deb ...\n",
            "Unpacking libthai0:amd64 (0.1.26-3) ...\n",
            "Selecting previously unselected package libpango-1.0-0:amd64.\n",
            "Preparing to unpack .../16-libpango-1.0-0_1.40.12-1_amd64.deb ...\n",
            "Unpacking libpango-1.0-0:amd64 (1.40.12-1) ...\n",
            "Selecting previously unselected package libgraphite2-3:amd64.\n",
            "Preparing to unpack .../17-libgraphite2-3_1.3.10-2_amd64.deb ...\n",
            "Unpacking libgraphite2-3:amd64 (1.3.10-2) ...\n",
            "Selecting previously unselected package libharfbuzz0b:amd64.\n",
            "Preparing to unpack .../18-libharfbuzz0b_1.4.2-1_amd64.deb ...\n",
            "Unpacking libharfbuzz0b:amd64 (1.4.2-1) ...\n",
            "Selecting previously unselected package libpangoft2-1.0-0:amd64.\n",
            "Preparing to unpack .../19-libpangoft2-1.0-0_1.40.12-1_amd64.deb ...\n",
            "Unpacking libpangoft2-1.0-0:amd64 (1.40.12-1) ...\n",
            "Selecting previously unselected package libpangocairo-1.0-0:amd64.\n",
            "Preparing to unpack .../20-libpangocairo-1.0-0_1.40.12-1_amd64.deb ...\n",
            "Unpacking libpangocairo-1.0-0:amd64 (1.40.12-1) ...\n",
            "Selecting previously unselected package libpathplan4.\n",
            "Preparing to unpack .../21-libpathplan4_2.38.0-16ubuntu2_amd64.deb ...\n",
            "Unpacking libpathplan4 (2.38.0-16ubuntu2) ...\n",
            "Selecting previously unselected package libgvc6.\n",
            "Preparing to unpack .../22-libgvc6_2.38.0-16ubuntu2_amd64.deb ...\n",
            "Unpacking libgvc6 (2.38.0-16ubuntu2) ...\n",
            "Selecting previously unselected package libgvpr2.\n",
            "Preparing to unpack .../23-libgvpr2_2.38.0-16ubuntu2_amd64.deb ...\n",
            "Unpacking libgvpr2 (2.38.0-16ubuntu2) ...\n",
            "Selecting previously unselected package libxt6:amd64.\n",
            "Preparing to unpack .../24-libxt6_1%3a1.1.5-1_amd64.deb ...\n",
            "Unpacking libxt6:amd64 (1:1.1.5-1) ...\n",
            "Selecting previously unselected package libxmu6:amd64.\n",
            "Preparing to unpack .../25-libxmu6_2%3a1.1.2-2_amd64.deb ...\n",
            "Unpacking libxmu6:amd64 (2:1.1.2-2) ...\n",
            "Selecting previously unselected package libxaw7:amd64.\n",
            "Preparing to unpack .../26-libxaw7_2%3a1.0.13-1_amd64.deb ...\n",
            "Unpacking libxaw7:amd64 (2:1.0.13-1) ...\n",
            "Selecting previously unselected package graphviz.\n",
            "Preparing to unpack .../27-graphviz_2.38.0-16ubuntu2_amd64.deb ...\n",
            "Unpacking graphviz (2.38.0-16ubuntu2) ...\n",
            "Setting up libpathplan4 (2.38.0-16ubuntu2) ...\n",
            "Setting up libxcb-render0:amd64 (1.12-1ubuntu1) ...\n",
            "Setting up libjbig0:amd64 (2.1-3.1) ...\n",
            "Setting up libdatrie1:amd64 (0.2.10-5) ...\n",
            "Setting up libtiff5:amd64 (4.0.8-5ubuntu0.1) ...\n",
            "Setting up libgraphite2-3:amd64 (1.3.10-2) ...\n",
            "Setting up libpixman-1-0:amd64 (0.34.0-1) ...\n",
            "Processing triggers for libc-bin (2.26-0ubuntu2.1) ...\n",
            "Setting up libltdl7:amd64 (2.4.6-2) ...\n",
            "Setting up libxcb-shm0:amd64 (1.12-1ubuntu1) ...\n",
            "Setting up libxpm4:amd64 (1:3.5.12-1) ...\n",
            "Setting up libxt6:amd64 (1:1.1.5-1) ...\n",
            "Setting up libthai-data (0.1.26-3) ...\n",
            "Setting up libcdt5 (2.38.0-16ubuntu2) ...\n",
            "Setting up fontconfig (2.11.94-0ubuntu2) ...\n",
            "Regenerating fonts cache... done.\n",
            "Setting up libcgraph6 (2.38.0-16ubuntu2) ...\n",
            "Setting up libwebp6:amd64 (0.6.0-3) ...\n",
            "Setting up libcairo2:amd64 (1.14.10-1ubuntu1) ...\n",
            "Setting up libgvpr2 (2.38.0-16ubuntu2) ...\n",
            "Setting up libgd3:amd64 (2.2.5-3) ...\n",
            "Setting up libharfbuzz0b:amd64 (1.4.2-1) ...\n",
            "Setting up libthai0:amd64 (0.1.26-3) ...\n",
            "Setting up libxmu6:amd64 (2:1.1.2-2) ...\n",
            "Setting up libpango-1.0-0:amd64 (1.40.12-1) ...\n",
            "Setting up libxaw7:amd64 (2:1.0.13-1) ...\n",
            "Setting up libpangoft2-1.0-0:amd64 (1.40.12-1) ...\n",
            "Setting up libpangocairo-1.0-0:amd64 (1.40.12-1) ...\n",
            "Setting up libgvc6 (2.38.0-16ubuntu2) ...\n",
            "Setting up graphviz (2.38.0-16ubuntu2) ...\n",
            "Processing triggers for libc-bin (2.26-0ubuntu2.1) ...\n"
          ],
          "name": "stdout"
        }
      ]
    },
    {
      "metadata": {
        "id": "5s6Q8ijcnGoK",
        "colab_type": "code",
        "colab": {}
      },
      "cell_type": "code",
      "source": [
        "model.compile(loss='categorical_crossentropy', optimizer='adam', metrics=['accuracy'])"
      ],
      "execution_count": 0,
      "outputs": []
    },
    {
      "metadata": {
        "id": "-t5wXu-fnWvZ",
        "colab_type": "code",
        "colab": {
          "resources": {
            "http://localhost:8080/gen204?invalidResponse=q=https%3A%2F%2Ftranslate.googleapis.com%2Ftranslate_a%2Fsingle%3Fclient%3Dgtx%26s,ql=134,r=%3C!DOCTYPE%20html%20PUBLIC%20%22-%2F%2FW3C%2F%2FDTD%20HTML%204.01%20Transitional%2F%2FEN%22%3E%0A,rl=1689": {
              "data": "CjwhRE9DVFlQRSBodG1sPgo8aHRtbCBsYW5nPWVuPgogIDxtZXRhIGNoYXJzZXQ9dXRmLTg+CiAgPG1ldGEgbmFtZT12aWV3cG9ydCBjb250ZW50PSJpbml0aWFsLXNjYWxlPTEsIG1pbmltdW0tc2NhbGU9MSwgd2lkdGg9ZGV2aWNlLXdpZHRoIj4KICA8dGl0bGU+RXJyb3IgNDA0IChOb3QgRm91bmQpISExPC90aXRsZT4KICA8c3R5bGU+CiAgICAqe21hcmdpbjowO3BhZGRpbmc6MH1odG1sLGNvZGV7Zm9udDoxNXB4LzIycHggYXJpYWwsc2Fucy1zZXJpZn1odG1se2JhY2tncm91bmQ6I2ZmZjtjb2xvcjojMjIyO3BhZGRpbmc6MTVweH1ib2R5e21hcmdpbjo3JSBhdXRvIDA7bWF4LXdpZHRoOjM5MHB4O21pbi1oZWlnaHQ6MTgwcHg7cGFkZGluZzozMHB4IDAgMTVweH0qID4gYm9keXtiYWNrZ3JvdW5kOnVybCgvL3d3dy5nb29nbGUuY29tL2ltYWdlcy9lcnJvcnMvcm9ib3QucG5nKSAxMDAlIDVweCBuby1yZXBlYXQ7cGFkZGluZy1yaWdodDoyMDVweH1we21hcmdpbjoxMXB4IDAgMjJweDtvdmVyZmxvdzpoaWRkZW59aW5ze2NvbG9yOiM3Nzc7dGV4dC1kZWNvcmF0aW9uOm5vbmV9YSBpbWd7Ym9yZGVyOjB9QG1lZGlhIHNjcmVlbiBhbmQgKG1heC13aWR0aDo3NzJweCl7Ym9keXtiYWNrZ3JvdW5kOm5vbmU7bWFyZ2luLXRvcDowO21heC13aWR0aDpub25lO3BhZGRpbmctcmlnaHQ6MH19I2xvZ297YmFja2dyb3VuZDp1cmwoLy93d3cuZ29vZ2xlLmNvbS9pbWFnZXMvbG9nb3MvZXJyb3JwYWdlL2Vycm9yX2xvZ28tMTUweDU0LnBuZykgbm8tcmVwZWF0O21hcmdpbi1sZWZ0Oi01cHh9QG1lZGlhIG9ubHkgc2NyZWVuIGFuZCAobWluLXJlc29sdXRpb246MTkyZHBpKXsjbG9nb3tiYWNrZ3JvdW5kOnVybCgvL3d3dy5nb29nbGUuY29tL2ltYWdlcy9sb2dvcy9lcnJvcnBhZ2UvZXJyb3JfbG9nby0xNTB4NTQtMngucG5nKSBuby1yZXBlYXQgMCUgMCUvMTAwJSAxMDAlOy1tb3otYm9yZGVyLWltYWdlOnVybCgvL3d3dy5nb29nbGUuY29tL2ltYWdlcy9sb2dvcy9lcnJvcnBhZ2UvZXJyb3JfbG9nby0xNTB4NTQtMngucG5nKSAwfX1AbWVkaWEgb25seSBzY3JlZW4gYW5kICgtd2Via2l0LW1pbi1kZXZpY2UtcGl4ZWwtcmF0aW86Mil7I2xvZ297YmFja2dyb3VuZDp1cmwoLy93d3cuZ29vZ2xlLmNvbS9pbWFnZXMvbG9nb3MvZXJyb3JwYWdlL2Vycm9yX2xvZ28tMTUweDU0LTJ4LnBuZykgbm8tcmVwZWF0Oy13ZWJraXQtYmFja2dyb3VuZC1zaXplOjEwMCUgMTAwJX19I2xvZ297ZGlzcGxheTppbmxpbmUtYmxvY2s7aGVpZ2h0OjU0cHg7d2lkdGg6MTUwcHh9CiAgPC9zdHlsZT4KICA8YSBocmVmPS8vd3d3Lmdvb2dsZS5jb20vPjxzcGFuIGlkPWxvZ28gYXJpYS1sYWJlbD1Hb29nbGU+PC9zcGFuPjwvYT4KICA8cD48Yj40MDQuPC9iPiA8aW5zPlRoYXTigJlzIGFuIGVycm9yLjwvaW5zPgogIDxwPiAgPGlucz5UaGF04oCZcyBhbGwgd2Uga25vdy48L2lucz4K",
              "ok": false,
              "headers": [
                [
                  "content-length",
                  "1449"
                ],
                [
                  "content-type",
                  "text/html; charset=utf-8"
                ]
              ],
              "status": 404,
              "status_text": ""
            }
          },
          "base_uri": "https://localhost:8080/",
          "height": 822
        },
        "outputId": "6b1b94fb-1190-4867-f861-0e0dcee68683"
      },
      "cell_type": "code",
      "source": [
        "train = tf.reshape(mnist.train.images,[-1, 28, 28, 1])\n",
        "model.fit(train,mnist.train.labels, epochs=15, batch_size=100)"
      ],
      "execution_count": 0,
      "outputs": [
        {
          "output_type": "error",
          "ename": "AttributeError",
          "evalue": "ignored",
          "traceback": [
            "\u001b[0;31m---------------------------------------------------------------------------\u001b[0m",
            "\u001b[0;31mAttributeError\u001b[0m                            Traceback (most recent call last)",
            "\u001b[0;32m<ipython-input-16-ef431fa93c2f>\u001b[0m in \u001b[0;36m<module>\u001b[0;34m()\u001b[0m\n\u001b[1;32m      1\u001b[0m \u001b[0mtrain\u001b[0m \u001b[0;34m=\u001b[0m \u001b[0mtf\u001b[0m\u001b[0;34m.\u001b[0m\u001b[0mreshape\u001b[0m\u001b[0;34m(\u001b[0m\u001b[0mmnist\u001b[0m\u001b[0;34m.\u001b[0m\u001b[0mtrain\u001b[0m\u001b[0;34m.\u001b[0m\u001b[0mimages\u001b[0m\u001b[0;34m,\u001b[0m\u001b[0;34m[\u001b[0m\u001b[0;34m-\u001b[0m\u001b[0;36m1\u001b[0m\u001b[0;34m,\u001b[0m \u001b[0;36m28\u001b[0m\u001b[0;34m,\u001b[0m \u001b[0;36m28\u001b[0m\u001b[0;34m,\u001b[0m \u001b[0;36m1\u001b[0m\u001b[0;34m]\u001b[0m\u001b[0;34m)\u001b[0m\u001b[0;34m\u001b[0m\u001b[0m\n\u001b[0;32m----> 2\u001b[0;31m \u001b[0mmodel\u001b[0m\u001b[0;34m.\u001b[0m\u001b[0mfit\u001b[0m\u001b[0;34m(\u001b[0m\u001b[0mtrain\u001b[0m\u001b[0;34m,\u001b[0m\u001b[0mmnist\u001b[0m\u001b[0;34m.\u001b[0m\u001b[0mtrain\u001b[0m\u001b[0;34m.\u001b[0m\u001b[0mlabels\u001b[0m\u001b[0;34m,\u001b[0m \u001b[0mepochs\u001b[0m\u001b[0;34m=\u001b[0m\u001b[0;36m15\u001b[0m\u001b[0;34m,\u001b[0m \u001b[0mbatch_size\u001b[0m\u001b[0;34m=\u001b[0m\u001b[0;36m100\u001b[0m\u001b[0;34m)\u001b[0m\u001b[0;34m\u001b[0m\u001b[0m\n\u001b[0m",
            "\u001b[0;32m/usr/local/lib/python3.6/dist-packages/keras/models.py\u001b[0m in \u001b[0;36mfit\u001b[0;34m(self, x, y, batch_size, epochs, verbose, callbacks, validation_split, validation_data, shuffle, class_weight, sample_weight, initial_epoch, steps_per_epoch, validation_steps, **kwargs)\u001b[0m\n\u001b[1;32m   1000\u001b[0m                               \u001b[0minitial_epoch\u001b[0m\u001b[0;34m=\u001b[0m\u001b[0minitial_epoch\u001b[0m\u001b[0;34m,\u001b[0m\u001b[0;34m\u001b[0m\u001b[0m\n\u001b[1;32m   1001\u001b[0m                               \u001b[0msteps_per_epoch\u001b[0m\u001b[0;34m=\u001b[0m\u001b[0msteps_per_epoch\u001b[0m\u001b[0;34m,\u001b[0m\u001b[0;34m\u001b[0m\u001b[0m\n\u001b[0;32m-> 1002\u001b[0;31m                               validation_steps=validation_steps)\n\u001b[0m\u001b[1;32m   1003\u001b[0m \u001b[0;34m\u001b[0m\u001b[0m\n\u001b[1;32m   1004\u001b[0m     def evaluate(self, x=None, y=None,\n",
            "\u001b[0;32m/usr/local/lib/python3.6/dist-packages/keras/engine/training.py\u001b[0m in \u001b[0;36mfit\u001b[0;34m(self, x, y, batch_size, epochs, verbose, callbacks, validation_split, validation_data, shuffle, class_weight, sample_weight, initial_epoch, steps_per_epoch, validation_steps, **kwargs)\u001b[0m\n\u001b[1;32m   1628\u001b[0m             \u001b[0msample_weight\u001b[0m\u001b[0;34m=\u001b[0m\u001b[0msample_weight\u001b[0m\u001b[0;34m,\u001b[0m\u001b[0;34m\u001b[0m\u001b[0m\n\u001b[1;32m   1629\u001b[0m             \u001b[0mclass_weight\u001b[0m\u001b[0;34m=\u001b[0m\u001b[0mclass_weight\u001b[0m\u001b[0;34m,\u001b[0m\u001b[0;34m\u001b[0m\u001b[0m\n\u001b[0;32m-> 1630\u001b[0;31m             batch_size=batch_size)\n\u001b[0m\u001b[1;32m   1631\u001b[0m         \u001b[0;31m# Prepare validation data.\u001b[0m\u001b[0;34m\u001b[0m\u001b[0;34m\u001b[0m\u001b[0m\n\u001b[1;32m   1632\u001b[0m         \u001b[0mdo_validation\u001b[0m \u001b[0;34m=\u001b[0m \u001b[0;32mFalse\u001b[0m\u001b[0;34m\u001b[0m\u001b[0m\n",
            "\u001b[0;32m/usr/local/lib/python3.6/dist-packages/keras/engine/training.py\u001b[0m in \u001b[0;36m_standardize_user_data\u001b[0;34m(self, x, y, sample_weight, class_weight, check_array_lengths, batch_size)\u001b[0m\n\u001b[1;32m   1474\u001b[0m                                     \u001b[0mself\u001b[0m\u001b[0;34m.\u001b[0m\u001b[0m_feed_input_shapes\u001b[0m\u001b[0;34m,\u001b[0m\u001b[0;34m\u001b[0m\u001b[0m\n\u001b[1;32m   1475\u001b[0m                                     \u001b[0mcheck_batch_axis\u001b[0m\u001b[0;34m=\u001b[0m\u001b[0;32mFalse\u001b[0m\u001b[0;34m,\u001b[0m\u001b[0;34m\u001b[0m\u001b[0m\n\u001b[0;32m-> 1476\u001b[0;31m                                     exception_prefix='input')\n\u001b[0m\u001b[1;32m   1477\u001b[0m         y = _standardize_input_data(y, self._feed_output_names,\n\u001b[1;32m   1478\u001b[0m                                     \u001b[0moutput_shapes\u001b[0m\u001b[0;34m,\u001b[0m\u001b[0;34m\u001b[0m\u001b[0m\n",
            "\u001b[0;32m/usr/local/lib/python3.6/dist-packages/keras/engine/training.py\u001b[0m in \u001b[0;36m_standardize_input_data\u001b[0;34m(data, names, shapes, check_batch_axis, exception_prefix)\u001b[0m\n\u001b[1;32m     74\u001b[0m         \u001b[0mdata\u001b[0m \u001b[0;34m=\u001b[0m \u001b[0mdata\u001b[0m\u001b[0;34m.\u001b[0m\u001b[0mvalues\u001b[0m \u001b[0;32mif\u001b[0m \u001b[0mdata\u001b[0m\u001b[0;34m.\u001b[0m\u001b[0m__class__\u001b[0m\u001b[0;34m.\u001b[0m\u001b[0m__name__\u001b[0m \u001b[0;34m==\u001b[0m \u001b[0;34m'DataFrame'\u001b[0m \u001b[0;32melse\u001b[0m \u001b[0mdata\u001b[0m\u001b[0;34m\u001b[0m\u001b[0m\n\u001b[1;32m     75\u001b[0m         \u001b[0mdata\u001b[0m \u001b[0;34m=\u001b[0m \u001b[0;34m[\u001b[0m\u001b[0mdata\u001b[0m\u001b[0;34m]\u001b[0m\u001b[0;34m\u001b[0m\u001b[0m\n\u001b[0;32m---> 76\u001b[0;31m     \u001b[0mdata\u001b[0m \u001b[0;34m=\u001b[0m \u001b[0;34m[\u001b[0m\u001b[0mnp\u001b[0m\u001b[0;34m.\u001b[0m\u001b[0mexpand_dims\u001b[0m\u001b[0;34m(\u001b[0m\u001b[0mx\u001b[0m\u001b[0;34m,\u001b[0m \u001b[0;36m1\u001b[0m\u001b[0;34m)\u001b[0m \u001b[0;32mif\u001b[0m \u001b[0mx\u001b[0m \u001b[0;32mis\u001b[0m \u001b[0;32mnot\u001b[0m \u001b[0;32mNone\u001b[0m \u001b[0;32mand\u001b[0m \u001b[0mx\u001b[0m\u001b[0;34m.\u001b[0m\u001b[0mndim\u001b[0m \u001b[0;34m==\u001b[0m \u001b[0;36m1\u001b[0m \u001b[0;32melse\u001b[0m \u001b[0mx\u001b[0m \u001b[0;32mfor\u001b[0m \u001b[0mx\u001b[0m \u001b[0;32min\u001b[0m \u001b[0mdata\u001b[0m\u001b[0;34m]\u001b[0m\u001b[0;34m\u001b[0m\u001b[0m\n\u001b[0m\u001b[1;32m     77\u001b[0m \u001b[0;34m\u001b[0m\u001b[0m\n\u001b[1;32m     78\u001b[0m     \u001b[0;32mif\u001b[0m \u001b[0mlen\u001b[0m\u001b[0;34m(\u001b[0m\u001b[0mdata\u001b[0m\u001b[0;34m)\u001b[0m \u001b[0;34m!=\u001b[0m \u001b[0mlen\u001b[0m\u001b[0;34m(\u001b[0m\u001b[0mnames\u001b[0m\u001b[0;34m)\u001b[0m\u001b[0;34m:\u001b[0m\u001b[0;34m\u001b[0m\u001b[0m\n",
            "\u001b[0;32m/usr/local/lib/python3.6/dist-packages/keras/engine/training.py\u001b[0m in \u001b[0;36m<listcomp>\u001b[0;34m(.0)\u001b[0m\n\u001b[1;32m     74\u001b[0m         \u001b[0mdata\u001b[0m \u001b[0;34m=\u001b[0m \u001b[0mdata\u001b[0m\u001b[0;34m.\u001b[0m\u001b[0mvalues\u001b[0m \u001b[0;32mif\u001b[0m \u001b[0mdata\u001b[0m\u001b[0;34m.\u001b[0m\u001b[0m__class__\u001b[0m\u001b[0;34m.\u001b[0m\u001b[0m__name__\u001b[0m \u001b[0;34m==\u001b[0m \u001b[0;34m'DataFrame'\u001b[0m \u001b[0;32melse\u001b[0m \u001b[0mdata\u001b[0m\u001b[0;34m\u001b[0m\u001b[0m\n\u001b[1;32m     75\u001b[0m         \u001b[0mdata\u001b[0m \u001b[0;34m=\u001b[0m \u001b[0;34m[\u001b[0m\u001b[0mdata\u001b[0m\u001b[0;34m]\u001b[0m\u001b[0;34m\u001b[0m\u001b[0m\n\u001b[0;32m---> 76\u001b[0;31m     \u001b[0mdata\u001b[0m \u001b[0;34m=\u001b[0m \u001b[0;34m[\u001b[0m\u001b[0mnp\u001b[0m\u001b[0;34m.\u001b[0m\u001b[0mexpand_dims\u001b[0m\u001b[0;34m(\u001b[0m\u001b[0mx\u001b[0m\u001b[0;34m,\u001b[0m \u001b[0;36m1\u001b[0m\u001b[0;34m)\u001b[0m \u001b[0;32mif\u001b[0m \u001b[0mx\u001b[0m \u001b[0;32mis\u001b[0m \u001b[0;32mnot\u001b[0m \u001b[0;32mNone\u001b[0m \u001b[0;32mand\u001b[0m \u001b[0mx\u001b[0m\u001b[0;34m.\u001b[0m\u001b[0mndim\u001b[0m \u001b[0;34m==\u001b[0m \u001b[0;36m1\u001b[0m \u001b[0;32melse\u001b[0m \u001b[0mx\u001b[0m \u001b[0;32mfor\u001b[0m \u001b[0mx\u001b[0m \u001b[0;32min\u001b[0m \u001b[0mdata\u001b[0m\u001b[0;34m]\u001b[0m\u001b[0;34m\u001b[0m\u001b[0m\n\u001b[0m\u001b[1;32m     77\u001b[0m \u001b[0;34m\u001b[0m\u001b[0m\n\u001b[1;32m     78\u001b[0m     \u001b[0;32mif\u001b[0m \u001b[0mlen\u001b[0m\u001b[0;34m(\u001b[0m\u001b[0mdata\u001b[0m\u001b[0;34m)\u001b[0m \u001b[0;34m!=\u001b[0m \u001b[0mlen\u001b[0m\u001b[0;34m(\u001b[0m\u001b[0mnames\u001b[0m\u001b[0;34m)\u001b[0m\u001b[0;34m:\u001b[0m\u001b[0;34m\u001b[0m\u001b[0m\n",
            "\u001b[0;31mAttributeError\u001b[0m: 'Tensor' object has no attribute 'ndim'"
          ]
        }
      ]
    },
    {
      "metadata": {
        "id": "3dLgcgDuraqY",
        "colab_type": "text"
      },
      "cell_type": "markdown",
      "source": [
        "###-------------------\n",
        "\n",
        "```\n",
        "# 코드로 형식 지정됨\n",
        "```\n",
        "\n"
      ]
    },
    {
      "metadata": {
        "id": "Q2bDJi_Tovns",
        "colab_type": "code",
        "colab": {
          "base_uri": "https://localhost:8080/",
          "height": 54
        },
        "outputId": "6c47139d-832c-47a9-d342-4ce822b21ffd"
      },
      "cell_type": "code",
      "source": [
        "import numpy\n",
        "from keras.datasets import mnist\n",
        "from keras.models import Sequential\n",
        "from keras.layers import Dense\n",
        "from keras.layers import Dropout\n",
        "from keras.layers import Flatten\n",
        "from keras.layers.convolutional import Convolution2D\n",
        "from keras.layers.convolutional import MaxPooling2D\n",
        "from keras.utils import np_utils\n",
        "from keras import backend as K\n",
        "K.set_image_dim_ordering('th')\n",
        "\n",
        "\n",
        "'''import cPickle, gzip, numpy\n",
        "\n",
        "# Load the dataset\n",
        "f = gzip.open('mnist.pkl.gz', 'rb')\n",
        "train_set, valid_set, test_set = cPickle.load(f)\n",
        "f.close()'''\n"
      ],
      "execution_count": 0,
      "outputs": [
        {
          "output_type": "execute_result",
          "data": {
            "text/plain": [
              "\"import cPickle, gzip, numpy\\n\\n# Load the dataset\\nf = gzip.open('mnist.pkl.gz', 'rb')\\ntrain_set, valid_set, test_set = cPickle.load(f)\\nf.close()\""
            ]
          },
          "metadata": {
            "tags": []
          },
          "execution_count": 20
        }
      ]
    },
    {
      "metadata": {
        "id": "R4keSisosbTr",
        "colab_type": "code",
        "colab": {
          "base_uri": "https://localhost:8080/",
          "height": 398
        },
        "outputId": "36fbeb0d-0a4d-402a-e313-e548572cbdf8"
      },
      "cell_type": "code",
      "source": [
        "!pip install cPickle\n",
        "import cPickle, gzip, numpy"
      ],
      "execution_count": 0,
      "outputs": [
        {
          "output_type": "stream",
          "text": [
            "Collecting cPickle\n",
            "\u001b[31m  Could not find a version that satisfies the requirement cPickle (from versions: )\u001b[0m\n",
            "\u001b[31mNo matching distribution found for cPickle\u001b[0m\n"
          ],
          "name": "stdout"
        },
        {
          "output_type": "error",
          "ename": "ModuleNotFoundError",
          "evalue": "ignored",
          "traceback": [
            "\u001b[0;31m---------------------------------------------------------------------------\u001b[0m",
            "\u001b[0;31mModuleNotFoundError\u001b[0m                       Traceback (most recent call last)",
            "\u001b[0;32m<ipython-input-25-3e86f3b8c6e0>\u001b[0m in \u001b[0;36m<module>\u001b[0;34m()\u001b[0m\n\u001b[1;32m      1\u001b[0m \u001b[0mget_ipython\u001b[0m\u001b[0;34m(\u001b[0m\u001b[0;34m)\u001b[0m\u001b[0;34m.\u001b[0m\u001b[0msystem\u001b[0m\u001b[0;34m(\u001b[0m\u001b[0;34m'pip install cPickle'\u001b[0m\u001b[0;34m)\u001b[0m\u001b[0;34m\u001b[0m\u001b[0m\n\u001b[0;32m----> 2\u001b[0;31m \u001b[0;32mimport\u001b[0m \u001b[0mcPickle\u001b[0m\u001b[0;34m,\u001b[0m \u001b[0mgzip\u001b[0m\u001b[0;34m,\u001b[0m \u001b[0mnumpy\u001b[0m\u001b[0;34m\u001b[0m\u001b[0m\n\u001b[0m",
            "\u001b[0;31mModuleNotFoundError\u001b[0m: No module named 'cPickle'",
            "",
            "\u001b[0;31m---------------------------------------------------------------------------\u001b[0;32m\nNOTE: If your import is failing due to a missing package, you can\nmanually install dependencies using either !pip or !apt.\n\nTo view examples of installing some common dependencies, click the\n\"Open Examples\" button below.\n\u001b[0;31m---------------------------------------------------------------------------\u001b[0m\n"
          ]
        }
      ]
    },
    {
      "metadata": {
        "id": "qMTt6mw3rc9E",
        "colab_type": "code",
        "colab": {
          "base_uri": "https://localhost:8080/",
          "height": 91
        },
        "outputId": "0f83851e-4a33-4157-f336-cd5ffeab730a"
      },
      "cell_type": "code",
      "source": [
        "from tensorflow.examples.tutorials.mnist import input_data\n",
        "\n",
        "mnist = input_data.read_data_sets(\"MNIST_data/\", one_hot=True)"
      ],
      "execution_count": 0,
      "outputs": [
        {
          "output_type": "stream",
          "text": [
            "Extracting MNIST_data/train-images-idx3-ubyte.gz\n",
            "Extracting MNIST_data/train-labels-idx1-ubyte.gz\n",
            "Extracting MNIST_data/t10k-images-idx3-ubyte.gz\n",
            "Extracting MNIST_data/t10k-labels-idx1-ubyte.gz\n"
          ],
          "name": "stdout"
        }
      ]
    },
    {
      "metadata": {
        "id": "rXMNu1SCrs_b",
        "colab_type": "code",
        "colab": {
          "base_uri": "https://localhost:8080/",
          "height": 138
        },
        "outputId": "f9517bd6-6560-4f41-af2f-705bfa2347c5"
      },
      "cell_type": "code",
      "source": [
        "print shape(mnist.train.images)"
      ],
      "execution_count": 0,
      "outputs": [
        {
          "output_type": "error",
          "ename": "SyntaxError",
          "evalue": "ignored",
          "traceback": [
            "\u001b[0;36m  File \u001b[0;32m\"<ipython-input-23-f36ab4c7ec13>\"\u001b[0;36m, line \u001b[0;32m1\u001b[0m\n\u001b[0;31m    print shape(mnist.train.images)\u001b[0m\n\u001b[0m              ^\u001b[0m\n\u001b[0;31mSyntaxError\u001b[0m\u001b[0;31m:\u001b[0m invalid syntax\n"
          ]
        }
      ]
    },
    {
      "metadata": {
        "id": "LAkjrbht_8cA",
        "colab_type": "text"
      },
      "cell_type": "markdown",
      "source": [
        ""
      ]
    },
    {
      "metadata": {
        "id": "uJaaMnNmteDA",
        "colab_type": "text"
      },
      "cell_type": "markdown",
      "source": [
        "###use class\n"
      ]
    },
    {
      "metadata": {
        "id": "tsnK16vjsLjL",
        "colab_type": "code",
        "colab": {
          "base_uri": "https://localhost:8080/",
          "height": 546
        },
        "outputId": "eedd78a0-9881-465e-8c48-ff20eb8edc7e"
      },
      "cell_type": "code",
      "source": [
        "#출처 : https://neurowhai.tistory.com/221\n",
        "\n",
        "import sys \n",
        "import os.path \n",
        "import numpy as np \n",
        "import keras \n",
        "from keras import layers, models, datasets, backend \n",
        "from keras.utils import np_utils \n",
        "import matplotlib.pyplot as plt \n",
        "from PIL import Image \n",
        "\n",
        "def get_file_from_drive(file_id):\n",
        "    from pydrive.auth import GoogleAuth \n",
        "    from pydrive.drive import GoogleDrive \n",
        "    from google.colab import auth \n",
        "    from oauth2client.client import GoogleCredentials\n",
        "    \n",
        "    auth.authenticate_user() \n",
        "    gauth = GoogleAuth() \n",
        "    gauth.credentials = GoogleCredentials.get_application_default() \n",
        "    drive = GoogleDrive(gauth)\n",
        "    \n",
        "    downloaded = drive.CreateFile({'id': file_id}) \n",
        "    return downloaded\n",
        "  \n",
        "class CNN(models.Sequential): \n",
        "  def __init__(self, input_shape, num_classes): \n",
        "    super().__init__() \n",
        "    self.add(layers.Conv2D(32, kernel_size=(3, 3), input_shape=input_shape)) \n",
        "    self.add(layers.BatchNormalization(axis=1)) \n",
        "    self.add(layers.Activation('relu')) \n",
        "    self.add(layers.MaxPooling2D(pool_size=(2, 2)))# n x14 x 14 x 32\n",
        "    self.add(layers.Conv2D(64, kernel_size=(3, 3))) # n x14 x 14 x 64\n",
        "    self.add(layers.BatchNormalization(axis=1))\n",
        "    self.add(layers.Activation('relu')) \n",
        "    self.add(layers.MaxPooling2D(pool_size=(2, 2)))  # n x 7 x 7 x 64\n",
        "    self.add(layers.Dropout(0.25)) \n",
        "    self.add(layers.Flatten()) # n , 7 x 7 x 64\n",
        "    self.add(layers.Dense(128)) \n",
        "    self.add(layers.BatchNormalization(axis=1)) \n",
        "    self.add(layers.Activation('relu')) \n",
        "    self.add(layers.Dropout(0.25)) \n",
        "    self.add(layers.Dense(num_classes, activation='softmax')) \n",
        "    self.compile(loss=keras.losses.categorical_crossentropy, \n",
        "                 optimizer='adam', metrics=['accuracy'])\n",
        "    \n",
        "    \n",
        "class MnistData(): \n",
        "  def __init__(self): \n",
        "    (x_train, y_train), (x_test, y_test) = datasets.mnist.load_data() \n",
        "    y_train = np_utils.to_categorical(y_train) \n",
        "    y_test = np_utils.to_categorical(y_test) \n",
        "    img_rows, img_cols = x_train.shape[1:] \n",
        "    \n",
        "    if backend.image_data_format() == 'channels_first':   #????????????????????\n",
        "      x_train = x_train.reshape(x_train.shape[0], 1, img_rows, img_cols)   #????????????????????\n",
        "      x_test = x_test.reshape(x_test.shape[0], 1, img_rows, img_cols) \n",
        "      input_shape = (1, img_rows, img_cols)    #????????????????????\n",
        "    else: \n",
        "      x_train = x_train.reshape(x_train.shape[0], img_rows, img_cols, 1)  #????????????????????\n",
        "      x_test = x_test.reshape(x_test.shape[0], img_rows, img_cols, 1)  #????????????????????\n",
        "      input_shape = (img_rows, img_cols, 1)   #????????????????????\n",
        "\n",
        "    x_train = x_train.astype('float32') \n",
        "    x_test = x_test.astype('float32') \n",
        "    x_train /= 255.0 \n",
        "    x_test /= 255.0   # 정규화같은데 왜 255....\n",
        "\n",
        "    self.input_shape = input_shape \n",
        "    self.num_classes = 10 \n",
        "    self.x_train, self.y_train = x_train, y_train \n",
        "    self.x_test, self.y_test = x_test, y_test \n",
        "\n",
        "def plot_loss(history): \n",
        "  plt.plot(history.history['loss']) \n",
        "  plt.plot(history.history['val_loss']) \n",
        "  plt.title('Model Loss') \n",
        "  plt.ylabel('Loss') \n",
        "  plt.xlabel('Epoch') \n",
        "  plt.legend(['Train', 'Test'], loc=0) \n",
        "\n",
        "def plot_acc(history): \n",
        "  plt.plot(history.history['acc']) \n",
        "  plt.plot(history.history['val_acc']) \n",
        "  plt.title('Model accuracy') \n",
        "  plt.ylabel('Accuracy') \n",
        "  plt.xlabel('Epoch') \n",
        "  plt.legend(['Train', 'Test'], loc=0) \n",
        "\n",
        "def train(): \n",
        "  batch_size = 100 \n",
        "  epochs = 15 \n",
        "  data = MnistData() \n",
        "  model = CNN(data.input_shape, data.num_classes) \n",
        "  history = model.fit(data.x_train, data.y_train, epochs=epochs, \n",
        "                      batch_size=batch_size, validation_split=0.2, verbose=2)\n",
        "  performance_test = model.evaluate(data.x_test, data.y_test, batch_size=100, verbose=0) \n",
        "  print('\\nTest Result ->', performance_test) \n",
        "  model.save_weights('cnn_model_mnist.h5') \n",
        "  plot_acc(history)\n",
        "  plt.show() \n",
        "  plot_loss(history) \n",
        "  plt.show() \n",
        "  \n",
        "def predict(): \n",
        "  img = Image.open(\"input.png\") \n",
        "  img_data = np.array(img) \n",
        "  \n",
        "  plt.imshow(img_data) \n",
        "  plt.show() \n",
        "  \n",
        "  if backend.image_data_format() == 'channels_first': \n",
        "    input_shape = (1, 28, 28) \n",
        "    img_data = img_data.transpose(2, 0, 1)[1].reshape(1, 1, 28, 28) \n",
        "    \n",
        "  else: \n",
        "    input_shape = (28, 28, 1) \n",
        "    img_data = img_data[:, :, 1].reshape(1, 28, 28, 1) \n",
        "    \n",
        " \n",
        "  img_data = img_data.astype('float32') / 255.0 \n",
        "  \n",
        "  model = CNN(input_shape, 10) \n",
        "  model.load_weights('cnn_model_mnist.h5') \n",
        "  \n",
        "  output = model.predict(img_data)\n",
        "  print(\"Answer :\", np.argmax(output)) \n",
        "  \n",
        "if __name__ == '__main__': \n",
        "  choice = input(\"train or predict\") \n",
        "  \n",
        "  if choice == \"train\": \n",
        "    train() \n",
        "  elif choice == \"predict\": \n",
        "    if os.path.exists(\"input.png\") == False: \n",
        "      print(\"Download a input image...\") \n",
        "      get_file_from_drive(\"1Tg6U6CDAVAJUGCG59rpAOmWYOPJHraLr\").GetContentFile(\"input.png\") \n",
        "      predict()"
      ],
      "execution_count": 0,
      "outputs": [
        {
          "output_type": "stream",
          "text": [
            "train or predictpredict\n",
            "Download a input image...\n"
          ],
          "name": "stdout"
        },
        {
          "output_type": "error",
          "ename": "ModuleNotFoundError",
          "evalue": "ignored",
          "traceback": [
            "\u001b[0;31m---------------------------------------------------------------------------\u001b[0m",
            "\u001b[0;31mModuleNotFoundError\u001b[0m                       Traceback (most recent call last)",
            "\u001b[0;32m<ipython-input-18-3d14139cd147>\u001b[0m in \u001b[0;36m<module>\u001b[0;34m()\u001b[0m\n\u001b[1;32m    134\u001b[0m     \u001b[0;32mif\u001b[0m \u001b[0mos\u001b[0m\u001b[0;34m.\u001b[0m\u001b[0mpath\u001b[0m\u001b[0;34m.\u001b[0m\u001b[0mexists\u001b[0m\u001b[0;34m(\u001b[0m\u001b[0;34m\"input.png\"\u001b[0m\u001b[0;34m)\u001b[0m \u001b[0;34m==\u001b[0m \u001b[0;32mFalse\u001b[0m\u001b[0;34m:\u001b[0m\u001b[0;34m\u001b[0m\u001b[0m\n\u001b[1;32m    135\u001b[0m       \u001b[0mprint\u001b[0m\u001b[0;34m(\u001b[0m\u001b[0;34m\"Download a input image...\"\u001b[0m\u001b[0;34m)\u001b[0m\u001b[0;34m\u001b[0m\u001b[0m\n\u001b[0;32m--> 136\u001b[0;31m       \u001b[0mget_file_from_drive\u001b[0m\u001b[0;34m(\u001b[0m\u001b[0;34m\"1Tg6U6CDAVAJUGCG59rpAOmWYOPJHraLr\"\u001b[0m\u001b[0;34m)\u001b[0m\u001b[0;34m.\u001b[0m\u001b[0mGetContentFile\u001b[0m\u001b[0;34m(\u001b[0m\u001b[0;34m\"input.png\"\u001b[0m\u001b[0;34m)\u001b[0m\u001b[0;34m\u001b[0m\u001b[0m\n\u001b[0m\u001b[1;32m    137\u001b[0m       \u001b[0mpredict\u001b[0m\u001b[0;34m(\u001b[0m\u001b[0;34m)\u001b[0m\u001b[0;34m\u001b[0m\u001b[0m\n",
            "\u001b[0;32m<ipython-input-18-3d14139cd147>\u001b[0m in \u001b[0;36mget_file_from_drive\u001b[0;34m(file_id)\u001b[0m\n\u001b[1;32m     10\u001b[0m \u001b[0;34m\u001b[0m\u001b[0m\n\u001b[1;32m     11\u001b[0m \u001b[0;32mdef\u001b[0m \u001b[0mget_file_from_drive\u001b[0m\u001b[0;34m(\u001b[0m\u001b[0mfile_id\u001b[0m\u001b[0;34m)\u001b[0m\u001b[0;34m:\u001b[0m\u001b[0;34m\u001b[0m\u001b[0m\n\u001b[0;32m---> 12\u001b[0;31m     \u001b[0;32mfrom\u001b[0m \u001b[0mpydrive\u001b[0m\u001b[0;34m.\u001b[0m\u001b[0mauth\u001b[0m \u001b[0;32mimport\u001b[0m \u001b[0mGoogleAuth\u001b[0m\u001b[0;34m\u001b[0m\u001b[0m\n\u001b[0m\u001b[1;32m     13\u001b[0m     \u001b[0;32mfrom\u001b[0m \u001b[0mpydrive\u001b[0m\u001b[0;34m.\u001b[0m\u001b[0mdrive\u001b[0m \u001b[0;32mimport\u001b[0m \u001b[0mGoogleDrive\u001b[0m\u001b[0;34m\u001b[0m\u001b[0m\n\u001b[1;32m     14\u001b[0m     \u001b[0;32mfrom\u001b[0m \u001b[0mgoogle\u001b[0m\u001b[0;34m.\u001b[0m\u001b[0mcolab\u001b[0m \u001b[0;32mimport\u001b[0m \u001b[0mauth\u001b[0m\u001b[0;34m\u001b[0m\u001b[0m\n",
            "\u001b[0;31mModuleNotFoundError\u001b[0m: No module named 'pydrive'",
            "",
            "\u001b[0;31m---------------------------------------------------------------------------\u001b[0;32m\nNOTE: If your import is failing due to a missing package, you can\nmanually install dependencies using either !pip or !apt.\n\nTo view examples of installing some common dependencies, click the\n\"Open Examples\" button below.\n\u001b[0;31m---------------------------------------------------------------------------\u001b[0m\n"
          ]
        }
      ]
    },
    {
      "metadata": {
        "id": "B40idSGNaRk1",
        "colab_type": "code",
        "colab": {}
      },
      "cell_type": "code",
      "source": [
        ""
      ],
      "execution_count": 0,
      "outputs": []
    },
    {
      "metadata": {
        "id": "iTc3uH9BsOYD",
        "colab_type": "code",
        "colab": {
          "base_uri": "https://localhost:8080/",
          "height": 503
        },
        "outputId": "b891ca74-6ed0-4d31-d115-bd41c6b0cdb8"
      },
      "cell_type": "code",
      "source": [
        "if os.path.exists(\"input.png\") == False: \n",
        "  print(\"Download a input image...\") \n",
        "  get_file_from_drive(\"1NaBmL3T3EPB0uByFagXVnhYRHZ0Hque8\").GetContentFile(\"input.png\") \n",
        "  predict()"
      ],
      "execution_count": 0,
      "outputs": [
        {
          "output_type": "stream",
          "text": [
            "Download a input image...\n"
          ],
          "name": "stdout"
        },
        {
          "output_type": "error",
          "ename": "ModuleNotFoundError",
          "evalue": "ignored",
          "traceback": [
            "\u001b[0;31m---------------------------------------------------------------------------\u001b[0m",
            "\u001b[0;31mModuleNotFoundError\u001b[0m                       Traceback (most recent call last)",
            "\u001b[0;32m<ipython-input-31-0162242e30d5>\u001b[0m in \u001b[0;36m<module>\u001b[0;34m()\u001b[0m\n\u001b[1;32m      1\u001b[0m \u001b[0;32mif\u001b[0m \u001b[0mos\u001b[0m\u001b[0;34m.\u001b[0m\u001b[0mpath\u001b[0m\u001b[0;34m.\u001b[0m\u001b[0mexists\u001b[0m\u001b[0;34m(\u001b[0m\u001b[0;34m\"input.png\"\u001b[0m\u001b[0;34m)\u001b[0m \u001b[0;34m==\u001b[0m \u001b[0;32mFalse\u001b[0m\u001b[0;34m:\u001b[0m\u001b[0;34m\u001b[0m\u001b[0m\n\u001b[1;32m      2\u001b[0m   \u001b[0mprint\u001b[0m\u001b[0;34m(\u001b[0m\u001b[0;34m\"Download a input image...\"\u001b[0m\u001b[0;34m)\u001b[0m\u001b[0;34m\u001b[0m\u001b[0m\n\u001b[0;32m----> 3\u001b[0;31m   \u001b[0mget_file_from_drive\u001b[0m\u001b[0;34m(\u001b[0m\u001b[0;34m\"1NaBmL3T3EPB0uByFagXVnhYRHZ0Hque8\"\u001b[0m\u001b[0;34m)\u001b[0m\u001b[0;34m.\u001b[0m\u001b[0mGetContentFile\u001b[0m\u001b[0;34m(\u001b[0m\u001b[0;34m\"input.png\"\u001b[0m\u001b[0;34m)\u001b[0m\u001b[0;34m\u001b[0m\u001b[0m\n\u001b[0m\u001b[1;32m      4\u001b[0m   \u001b[0mpredict\u001b[0m\u001b[0;34m(\u001b[0m\u001b[0;34m)\u001b[0m\u001b[0;34m\u001b[0m\u001b[0m\n",
            "\u001b[0;32m<ipython-input-30-90abc3bf9f14>\u001b[0m in \u001b[0;36mget_file_from_drive\u001b[0;34m(file_id)\u001b[0m\n\u001b[1;32m      9\u001b[0m \u001b[0;34m\u001b[0m\u001b[0m\n\u001b[1;32m     10\u001b[0m \u001b[0;32mdef\u001b[0m \u001b[0mget_file_from_drive\u001b[0m\u001b[0;34m(\u001b[0m\u001b[0mfile_id\u001b[0m\u001b[0;34m)\u001b[0m\u001b[0;34m:\u001b[0m\u001b[0;34m\u001b[0m\u001b[0m\n\u001b[0;32m---> 11\u001b[0;31m     \u001b[0;32mfrom\u001b[0m \u001b[0mpydrive\u001b[0m\u001b[0;34m.\u001b[0m\u001b[0mauth\u001b[0m \u001b[0;32mimport\u001b[0m \u001b[0mGoogleAuth\u001b[0m\u001b[0;34m\u001b[0m\u001b[0m\n\u001b[0m\u001b[1;32m     12\u001b[0m     \u001b[0;32mfrom\u001b[0m \u001b[0mpydrive\u001b[0m\u001b[0;34m.\u001b[0m\u001b[0mdrive\u001b[0m \u001b[0;32mimport\u001b[0m \u001b[0mGoogleDrive\u001b[0m\u001b[0;34m\u001b[0m\u001b[0m\n\u001b[1;32m     13\u001b[0m     \u001b[0;32mfrom\u001b[0m \u001b[0mgoogle\u001b[0m\u001b[0;34m.\u001b[0m\u001b[0mcolab\u001b[0m \u001b[0;32mimport\u001b[0m \u001b[0mauth\u001b[0m\u001b[0;34m\u001b[0m\u001b[0m\n",
            "\u001b[0;31mModuleNotFoundError\u001b[0m: No module named 'pydrive'",
            "",
            "\u001b[0;31m---------------------------------------------------------------------------\u001b[0;32m\nNOTE: If your import is failing due to a missing package, you can\nmanually install dependencies using either !pip or !apt.\n\nTo view examples of installing some common dependencies, click the\n\"Open Examples\" button below.\n\u001b[0;31m---------------------------------------------------------------------------\u001b[0m\n"
          ]
        }
      ]
    },
    {
      "metadata": {
        "id": "ylLxaANQ0Ir4",
        "colab_type": "code",
        "colab": {}
      },
      "cell_type": "code",
      "source": [
        ""
      ],
      "execution_count": 0,
      "outputs": []
    },
    {
      "metadata": {
        "id": "g7CWHfouiThQ",
        "colab_type": "text"
      },
      "cell_type": "markdown",
      "source": [
        "### https://github.com/jskDr/keraspp ex4-1"
      ]
    },
    {
      "metadata": {
        "id": "jJRE5ZfZiVKe",
        "colab_type": "code",
        "colab": {
          "base_uri": "https://localhost:8080/",
          "height": 34
        },
        "outputId": "34666177-89e3-4d5a-f566-6128338fd941"
      },
      "cell_type": "code",
      "source": [
        "import keras"
      ],
      "execution_count": 0,
      "outputs": [
        {
          "output_type": "stream",
          "text": [
            "Using TensorFlow backend.\n"
          ],
          "name": "stderr"
        }
      ]
    },
    {
      "metadata": {
        "id": "HfGCh9QXi6OH",
        "colab_type": "code",
        "colab": {}
      },
      "cell_type": "code",
      "source": [
        "from keras import models, layers"
      ],
      "execution_count": 0,
      "outputs": []
    },
    {
      "metadata": {
        "id": "ArmlKP7IjAkW",
        "colab_type": "code",
        "colab": {}
      },
      "cell_type": "code",
      "source": [
        "from keras import backend # 딥러닝 엔진 직접 제어, 엔진에서 사용하는 시스템 파라미터값을 참조,변경가능"
      ],
      "execution_count": 0,
      "outputs": []
    },
    {
      "metadata": {
        "id": "PpnVUWBWjscq",
        "colab_type": "code",
        "colab": {}
      },
      "cell_type": "code",
      "source": [
        "class CNN(models.Sequential):\n",
        "    def __init(self, input_shape, num_classes):\n",
        "        super().__init__() \n",
        "\n",
        "        self.add(layers.Conv2D(32, kernel_size=(3, 3),\n",
        "                 activation='relu',\n",
        "                 input_shape=input_shape))\n",
        "        self.add(layers.Conv2D(64, (3, 3), activation='relu'))\n",
        "        self.add(layers.MaxPooling2D(pool_size=(2, 2)))\n",
        "        self.add(layers.Dropout(0.25))\n",
        "        self.add(layers.Flatten())\n",
        "        self.add(layers.Dense(128, activation='relu'))\n",
        "        self.add(layers.Dropout(0.5))\n",
        "        self.add(layers.Dense(num_classes, activation='softmax'))\n",
        "        \n",
        "        self.compile(loss=keras.losses.categorical_crossentropy,\n",
        "                     optimizer='rmsprop',\n",
        "                     metrics=['accuracy'])"
      ],
      "execution_count": 0,
      "outputs": []
    },
    {
      "metadata": {
        "id": "gvUHdYMXwJs2",
        "colab_type": "code",
        "colab": {}
      },
      "cell_type": "code",
      "source": [
        "class CNN(models.Sequential):\n",
        "    def __init__(self, input_shape, num_classes):\n",
        "        super().__init__()\n",
        "\n",
        "        self.add(layers.Conv2D(32, kernel_size=(3, 3),\n",
        "                 activation='relu',\n",
        "                 input_shape=input_shape))\n",
        "        self.add(layers.Conv2D(64, (3, 3), activation='relu'))\n",
        "        self.add(layers.MaxPooling2D(pool_size=(2, 2)))\n",
        "        self.add(layers.Dropout(0.25))\n",
        "        self.add(layers.Flatten())\n",
        "        self.add(layers.Dense(128, activation='relu'))\n",
        "        self.add(layers.Dropout(0.5))\n",
        "        self.add(layers.Dense(num_classes, activation='softmax'))\n",
        "\n",
        "        self.compile(loss=keras.losses.categorical_crossentropy,\n",
        "                      optimizer='rmsprop',\n",
        "                      metrics=['accuracy'])"
      ],
      "execution_count": 0,
      "outputs": []
    },
    {
      "metadata": {
        "id": "LBikHwUjnl_n",
        "colab_type": "code",
        "colab": {}
      },
      "cell_type": "code",
      "source": [
        "from keras import datasets \n",
        "\n",
        "class DATA():\n",
        "    def __init__(self):\n",
        "        num_classes = 10\n",
        "\n",
        "        (x_train, y_train), (x_test, y_test) = datasets.mnist.load_data()\n",
        "        img_rows, img_cols = x_train.shape[1:]\n",
        "        \n",
        "# 흑백이미지는 채널 정보가 존재하지 않아 입력데이터의 차원을 하나 추가한다.\n",
        "# 채널은 이미지 배열의 앞단, 뒷단에 추가되어야 할 수 있다.\n",
        "# 채널의 위치는 케라스의 시스템 파라미터인 'image_data_format'에 지정되어 있다.\n",
        "        if backend.image_data_format() == 'channels_first':\n",
        "            x_train = x_train.reshape(x_train.shape[0], 1, img_rows, img_cols)  # 샘플수, 채널수, 가로, 세로\n",
        "            x_test = x_test.reshape(x_test.shape[0], 1, img_rows, img_cols)\n",
        "            input_shape = (1, img_rows, img_cols)\n",
        "        else:\n",
        "            x_train = x_train.reshape(x_train.shape[0], img_rows, img_cols, 1)\n",
        "            x_test = x_test.reshape(x_test.shape[0], img_rows, img_cols, 1)\n",
        "            input_shape = (img_rows, img_cols, 1)\n",
        "\n",
        "        x_train = x_train.astype('float32')\n",
        "        x_test = x_test.astype('float32')\n",
        "        x_train /= 255\n",
        "        x_test /= 255\n",
        "\n",
        "        y_train = keras.utils.to_categorical(y_train, num_classes)\n",
        "        y_test = keras.utils.to_categorical(y_test, num_classes)\n",
        "        \n",
        "        self.input_shape = input_shape\n",
        "        self.num_classes = num_classes\n",
        "        self.x_train, self.y_train = x_train, y_train\n",
        "        self.x_test, self.y_test = x_test, y_test"
      ],
      "execution_count": 0,
      "outputs": []
    },
    {
      "metadata": {
        "id": "rvDhVO3NpuEI",
        "colab_type": "code",
        "colab": {}
      },
      "cell_type": "code",
      "source": [
        "# keraspp.skeras   학습효과 분석\n",
        "import matplotlib.pyplot as plt\n",
        "import numpy as np\n",
        "\n",
        "def plot_acc(history, title=None):\n",
        "    # summarize history for accuracy\n",
        "    if not isinstance(history, dict):\n",
        "        history = history.history\n",
        "\n",
        "    plt.plot(history['acc'])\n",
        "    plt.plot(history['val_acc'])\n",
        "    if title is not None:\n",
        "        plt.title(title)\n",
        "    plt.ylabel('Accracy')\n",
        "    plt.xlabel('Epoch')\n",
        "    plt.legend(['Training data', 'Validation data'], loc=0)\n",
        "    # plt.show()\n",
        "\n",
        "\n",
        "def plot_loss(history, title=None):\n",
        "    # summarize history for loss\n",
        "    if not isinstance(history, dict):\n",
        "        history = history.history\n",
        "\n",
        "    plt.plot(history['loss'])\n",
        "    plt.plot(history['val_loss'])\n",
        "    if title is not None:\n",
        "        plt.title(title)\n",
        "    plt.ylabel('Loss')\n",
        "    plt.xlabel('Epoch')\n",
        "    plt.legend(['Training data', 'Validation data'], loc=0)\n",
        "    # plt.show()"
      ],
      "execution_count": 0,
      "outputs": []
    },
    {
      "metadata": {
        "id": "LR1m9GPNp7N6",
        "colab_type": "code",
        "colab": {}
      },
      "cell_type": "code",
      "source": [
        "epochs = 10\n",
        "batch_size = 128"
      ],
      "execution_count": 0,
      "outputs": []
    },
    {
      "metadata": {
        "id": "LXNmIKfarsje",
        "colab_type": "code",
        "colab": {}
      },
      "cell_type": "code",
      "source": [
        "data = DATA()\n",
        "model = CNN(data.input_shape, data.num_classes)"
      ],
      "execution_count": 0,
      "outputs": []
    },
    {
      "metadata": {
        "id": "6NHEqT3usHO7",
        "colab_type": "code",
        "colab": {
          "base_uri": "https://localhost:8080/",
          "height": 445
        },
        "outputId": "6f3f4811-98a4-467c-c567-75bf4f29a005"
      },
      "cell_type": "code",
      "source": [
        "model.fit(data.x_train, data.y_train,\n",
        "         batch_size = batch_size, epochs = epochs, validation_split=0.2)"
      ],
      "execution_count": 0,
      "outputs": [
        {
          "output_type": "stream",
          "text": [
            "Train on 48000 samples, validate on 12000 samples\n",
            "Epoch 1/10\n",
            "48000/48000 [==============================] - 9s 192us/step - loss: 0.2499 - acc: 0.9249 - val_loss: 0.0593 - val_acc: 0.9806\n",
            "Epoch 2/10\n",
            "48000/48000 [==============================] - 7s 154us/step - loss: 0.0840 - acc: 0.9755 - val_loss: 0.0547 - val_acc: 0.9850\n",
            "Epoch 3/10\n",
            "48000/48000 [==============================] - 7s 155us/step - loss: 0.0650 - acc: 0.9802 - val_loss: 0.0431 - val_acc: 0.9879\n",
            "Epoch 4/10\n",
            "48000/48000 [==============================] - 7s 154us/step - loss: 0.0545 - acc: 0.9844 - val_loss: 0.0394 - val_acc: 0.9883\n",
            "Epoch 5/10\n",
            "48000/48000 [==============================] - 7s 154us/step - loss: 0.0488 - acc: 0.9851 - val_loss: 0.0420 - val_acc: 0.9886\n",
            "Epoch 6/10\n",
            "48000/48000 [==============================] - 7s 154us/step - loss: 0.0444 - acc: 0.9872 - val_loss: 0.0430 - val_acc: 0.9882\n",
            "Epoch 7/10\n",
            "48000/48000 [==============================] - 7s 154us/step - loss: 0.0394 - acc: 0.9882 - val_loss: 0.0417 - val_acc: 0.9883\n",
            "Epoch 8/10\n",
            "48000/48000 [==============================] - 7s 154us/step - loss: 0.0379 - acc: 0.9885 - val_loss: 0.0370 - val_acc: 0.9898\n",
            "Epoch 9/10\n",
            "48000/48000 [==============================] - 7s 154us/step - loss: 0.0381 - acc: 0.9885 - val_loss: 0.0445 - val_acc: 0.9892\n",
            "Epoch 10/10\n",
            "48000/48000 [==============================] - 7s 155us/step - loss: 0.0369 - acc: 0.9890 - val_loss: 0.0455 - val_acc: 0.9886\n"
          ],
          "name": "stdout"
        },
        {
          "output_type": "execute_result",
          "data": {
            "text/plain": [
              "<keras.callbacks.History at 0x7f2962d96eb8>"
            ]
          },
          "metadata": {
            "tags": []
          },
          "execution_count": 61
        }
      ]
    },
    {
      "metadata": {
        "id": "ZY7q4OSGtW1N",
        "colab_type": "code",
        "colab": {
          "base_uri": "https://localhost:8080/",
          "height": 1190
        },
        "outputId": "57c0de9b-d100-40ed-abe6-5b9e724091aa"
      },
      "cell_type": "code",
      "source": [
        "def main():\n",
        "    batch_size = 128\n",
        "    epochs = 10\n",
        "\n",
        "    data = DATA()\n",
        "    model = CNN(data.input_shape, data.num_classes)\n",
        "\n",
        "    history = model.fit(data.x_train, data.y_train,\n",
        "              batch_size=batch_size,\n",
        "              epochs=epochs,\n",
        "              validation_split=0.2)\n",
        "\n",
        "    score = model.evaluate(data.x_test, data.y_test)\n",
        "    print()\n",
        "    print('Test loss:', score[0])\n",
        "    print('Test accuracy:', score[1])\n",
        "\n",
        "    plot_loss(history)\n",
        "    plt.show()\n",
        "    plot_acc(history)\n",
        "    plt.show()\n",
        "\n",
        "if __name__ == '__main__':\n",
        "    main()"
      ],
      "execution_count": 0,
      "outputs": [
        {
          "output_type": "stream",
          "text": [
            "Train on 48000 samples, validate on 12000 samples\n",
            "Epoch 1/10\n",
            "48000/48000 [==============================] - 8s 168us/step - loss: 0.2345 - acc: 0.9279 - val_loss: 0.0641 - val_acc: 0.9811\n",
            "Epoch 2/10\n",
            "48000/48000 [==============================] - 7s 156us/step - loss: 0.0863 - acc: 0.9741 - val_loss: 0.0498 - val_acc: 0.9857\n",
            "Epoch 3/10\n",
            "48000/48000 [==============================] - 7s 156us/step - loss: 0.0659 - acc: 0.9806 - val_loss: 0.0452 - val_acc: 0.9872\n",
            "Epoch 4/10\n",
            "48000/48000 [==============================] - 7s 155us/step - loss: 0.0553 - acc: 0.9832 - val_loss: 0.0404 - val_acc: 0.9892\n",
            "Epoch 5/10\n",
            "48000/48000 [==============================] - 7s 155us/step - loss: 0.0475 - acc: 0.9853 - val_loss: 0.0449 - val_acc: 0.9887\n",
            "Epoch 6/10\n",
            "48000/48000 [==============================] - 7s 156us/step - loss: 0.0443 - acc: 0.9873 - val_loss: 0.0384 - val_acc: 0.9887\n",
            "Epoch 7/10\n",
            "48000/48000 [==============================] - 8s 156us/step - loss: 0.0418 - acc: 0.9875 - val_loss: 0.0440 - val_acc: 0.9890\n",
            "Epoch 8/10\n",
            "48000/48000 [==============================] - 7s 156us/step - loss: 0.0385 - acc: 0.9884 - val_loss: 0.0440 - val_acc: 0.9879\n",
            "Epoch 9/10\n",
            "48000/48000 [==============================] - 8s 156us/step - loss: 0.0382 - acc: 0.9888 - val_loss: 0.0406 - val_acc: 0.9898\n",
            "Epoch 10/10\n",
            "48000/48000 [==============================] - 8s 157us/step - loss: 0.0388 - acc: 0.9886 - val_loss: 0.0450 - val_acc: 0.9887\n",
            "10000/10000 [==============================] - 1s 127us/step\n",
            "\n",
            "Test loss: 0.03835741495382281\n",
            "Test accuracy: 0.9896\n"
          ],
          "name": "stdout"
        },
        {
          "output_type": "display_data",
          "data": {
            "image/png": "[encoded data removed]",
            "text/plain": [
              "<matplotlib.figure.Figure at 0x7f2923efec88>"
            ]
          },
          "metadata": {
            "tags": []
          }
        },
        {
          "output_type": "display_data",
          "data": {
            "image/png": "[encoded data removed]",
            "text/plain": [
              "<matplotlib.figure.Figure at 0x7f29244595f8>"
            ]
          },
          "metadata": {
            "tags": []
          }
        }
      ]
    },
    {
      "metadata": {
        "id": "3KwA3nyh2xmP",
        "colab_type": "code",
        "colab": {}
      },
      "cell_type": "code",
      "source": [
        ""
      ],
      "execution_count": 0,
      "outputs": []
    },
    {
      "metadata": {
        "id": "1NslysU45Kh8",
        "colab_type": "text"
      },
      "cell_type": "markdown",
      "source": [
        "# cifar10"
      ]
    },
    {
      "metadata": {
        "id": "lzGjPVBf9NlK",
        "colab_type": "code",
        "colab": {}
      },
      "cell_type": "code",
      "source": [
        "#https://github.com/jskDr/keraspp/blob/master/keraspp/sfile.py\n",
        "import datetime\n",
        "import uuid\n",
        "import os\n",
        "\n",
        "\n",
        "def unique_filename(type='uuid'): \n",
        "    if type == 'datetime':\n",
        "        filename = datetime.datetime.now().strftime(\"%y%m%d_%H%M%S\")   # 현재시간을 새로운이름으로\n",
        "    else:  # type == \"uuid\"\n",
        "        filename = str(uuid.uuid4())\n",
        "    return filename\n",
        "\n",
        "\n",
        "def makenewfold(prefix='output_', type='datetime'):\n",
        "    suffix = unique_filename('datetime')\n",
        "    foldname = 'output_' + suffix\n",
        "    os.makedirs(foldname)  # 새로운 저장용폴더만듬\n",
        "    return foldname"
      ],
      "execution_count": 0,
      "outputs": []
    },
    {
      "metadata": {
        "id": "J9ic156q-1tE",
        "colab_type": "code",
        "colab": {}
      },
      "cell_type": "code",
      "source": [
        "# from https://github.com/jskDr/keraspp/blob/master/keraspp/skeras.py   ????\n",
        "import numpy as np\n",
        "import matplotlib.pyplot as plt\n",
        "import os\n",
        "\n",
        "def save_history_history(fname, history_history, fold=''):  #학습곡선이 들어있는 history를 history_history.npy에 저장\n",
        "    np.save(os.path.join(fold, fname), history_history)\n",
        "    \n",
        "def plot_loss_acc(history):\n",
        "    plot_loss(history, '(a) Loss trajectory')\n",
        "    plt.show()            \n",
        "    plot_acc(history, '(b) Accracy trajectory')\n",
        "    plt.show()\n",
        "def plot_acc(history, title=None):  #정확도 학습곡선\n",
        "    # summarize history for accuracy\n",
        "    if not isinstance(history, dict):\n",
        "        history = history.history\n",
        "\n",
        "    plt.plot(history['acc'])\n",
        "    plt.plot(history['val_acc'])\n",
        "    if title is not None:\n",
        "        plt.title(title)\n",
        "    plt.ylabel('Accracy')\n",
        "    plt.xlabel('Epoch')\n",
        "    plt.legend(['Training data', 'Validation data'], loc=0)\n",
        "    # plt.show()\n",
        "def plot_acc_loss(history):\n",
        "    plot_acc(history, '(a) Accracy trajectory')\n",
        "    plt.show()\n",
        "    plot_loss(history, '(b) Loss trajectory')\n",
        "    plt.show()   \n",
        "def plot_loss(history, title=None):  # 손실 학습 곡선\n",
        "    # summarize history for loss\n",
        "    if not isinstance(history, dict):\n",
        "        history = history.history\n",
        "\n",
        "    plt.plot(history['loss'])\n",
        "    plt.plot(history['val_loss'])\n",
        "    if title is not None:\n",
        "        plt.title(title)\n",
        "    plt.ylabel('Loss')\n",
        "    plt.xlabel('Epoch')\n",
        "    plt.legend(['Training data', 'Validation data'], loc=0)\n",
        "    # plt.show()"
      ],
      "execution_count": 0,
      "outputs": []
    },
    {
      "metadata": {
        "id": "HLDq8ZsT5lEb",
        "colab_type": "code",
        "colab": {}
      },
      "cell_type": "code",
      "source": [
        "#https://github.com/jskDr/keraspp/blob/master/keraspp/aicnn.py\n",
        "from sklearn import model_selection, metrics   # 인공지능모델의 최적화 툴, 성능 보여주는 지표계산\n",
        "from sklearn.preprocessing import MinMaxScaler\n",
        "import numpy as np\n",
        "import matplotlib.pyplot as plt\n",
        "import os\n",
        "\n",
        "from keras import backend as K\n",
        "from keras.utils import np_utils\n",
        "from keras.models import Model\n",
        "from keras.layers import Input, Conv2D, MaxPooling2D, Flatten, Dense, Dropout\n",
        "\n",
        "##from . import skeras\n",
        "##from . import sfile\n",
        "\n",
        "\n",
        "class CNN(Model):   # Model 클래스를 상속\n",
        "    def __init__(model, nb_classes, in_shape=None):\n",
        "        model.nb_classes = nb_classes\n",
        "        model.in_shape = in_shape\n",
        "        model.build_model()   # model 만듬\n",
        "        super().__init__(model.x, model.y)  # 부모의 초기화함수\n",
        "        model.compile()\n",
        "\n",
        "    def build_model(model):\n",
        "        nb_classes = model.nb_classes  # 함수에서 필요한 멤버변수를 지역변수로 치환\n",
        "        in_shape = model.in_shape\n",
        "\n",
        "        x = Input(in_shape)\n",
        "\n",
        "        h = Conv2D(32, kernel_size=(3, 3), activation='relu',\n",
        "                   input_shape=in_shape)(x)\n",
        "        h = Conv2D(64, (3, 3), activation='relu')(h)\n",
        "        h = MaxPooling2D(pool_size=(2, 2))(h)\n",
        "        h = Dropout(0.25)(h)\n",
        "        h = Flatten()(h)   # 3차원텐서->1차원벡터\n",
        "        z_cl = h    # 여기까지가 convolution layer임을 기억\n",
        "\n",
        "        h = Dense(128, activation='relu')(h)\n",
        "        h = Dropout(0.5)(h)\n",
        "        z_fl = h    \n",
        "\n",
        "        y = Dense(nb_classes, activation='softmax', name='preds')(h)\n",
        "\n",
        "        model.cl_part = Model(x, z_cl)\n",
        "        model.fl_part = Model(x, z_fl) # 부가적인 모델\n",
        "\n",
        "        model.x, model.y = x, y  #본 모델\n",
        "\n",
        "    def compile(model):\n",
        "        Model.compile(model, loss='categorical_crossentropy',\n",
        "                      optimizer='adadelta', metrics=['accuracy'])\n",
        "\n",
        "\n",
        "class DataSet:\n",
        "    def __init__(self, X, y, nb_classes, scaling=True, test_size=0.2, random_state=0):\n",
        "        \"\"\"\n",
        "        X is originally vector. Hence, it will be transformed\n",
        "        to 2D images with a channel (i.e, 3D).\n",
        "        \"\"\"\n",
        "        self.X = X\n",
        "        self.add_channels()\n",
        "\n",
        "        X = self.X  # 멤버변수 self.X를 이용해 채널을 더하는 작업?\n",
        "        # the data, shuffled and split between train and test sets\n",
        "        X_train, X_test, y_train, y_test = model_selection.train_test_split(\n",
        "            X, y, test_size=0.2, random_state=random_state)  # 혼합 원치 않을 시 shuffle=False\n",
        "\n",
        "        print(X_train.shape, y_train.shape)\n",
        "\n",
        "        X_train = X_train.astype('float32') # 이미지 데이터가 정수인 경우가 있으므로\n",
        "        X_test = X_test.astype('float32')\n",
        "\n",
        "        if scaling:\n",
        "            # scaling to have (0, 1) for each feature (each pixel)\n",
        "            scaler = MinMaxScaler()  # scikitlearn\n",
        "            n = X_train.shape[0]\n",
        "            X_train = scaler.fit_transform(\n",
        "                X_train.reshape(n, -1)).reshape(X_train.shape)\n",
        "            n = X_test.shape[0]\n",
        "            X_test = scaler.transform(\n",
        "                X_test.reshape(n, -1)).reshape(X_test.shape)\n",
        "            self.scaler = scaler\n",
        "\n",
        "        print('X_train shape:', X_train.shape)\n",
        "        print(X_train.shape[0], 'train samples')\n",
        "        print(X_test.shape[0], 'test samples')\n",
        "\n",
        "        # convert class vectors to binary class matrices\n",
        "        Y_train = np_utils.to_categorical(y_train, nb_classes)  #원핫\n",
        "        Y_test = np_utils.to_categorical(y_test, nb_classes)\n",
        "\n",
        "        self.X_train, self.X_test = X_train, X_test #멤버변수로등록\n",
        "        self.Y_train, self.Y_test = Y_train, Y_test #이진형\n",
        "        self.y_train, self.y_test = y_train, y_test #정수형\n",
        "        # self.input_shape = input_shape\n",
        "\n",
        "    def add_channels(self):\n",
        "        X = self.X\n",
        "\n",
        "        if len(X.shape) == 3: # 컬러이면\n",
        "            N, img_rows, img_cols = X.shape\n",
        "\n",
        "            if K.image_dim_ordering() == 'th':  # 케라스 환경변수가 theano이면\n",
        "                X = X.reshape(X.shape[0], 1, img_rows, img_cols)\n",
        "                input_shape = (1, img_rows, img_cols)\n",
        "            else:     #텐서플로방식\n",
        "                X = X.reshape(X.shape[0], img_rows, img_cols, 1)\n",
        "                input_shape = (img_rows, img_cols, 1)\n",
        "        else:\n",
        "            input_shape = X.shape[1:]  # channel is already included.\n",
        "\n",
        "        self.X = X\n",
        "        self.input_shape = input_shape\n",
        "\n",
        "\n",
        "class Machine():\n",
        "    def __init__(self, X, y, nb_classes=2, fig=True):\n",
        "        self.nb_classes = nb_classes\n",
        "        self.set_data(X, y)\n",
        "        self.set_model()\n",
        "        self.fig = fig\n",
        "\n",
        "    def set_data(self, X, y):\n",
        "        nb_classes = self.nb_classes\n",
        "        self.data = DataSet(X, y, nb_classes) #위에 선언\n",
        "        print('data.input_shape', self.data.input_shape)\n",
        "\n",
        "    def set_model(self):\n",
        "        nb_classes = self.nb_classes\n",
        "        data = self.data\n",
        "        self.model = CNN(nb_classes=nb_classes, in_shape=data.input_shape)\n",
        "        # cnn_lenet(nb_classes=nb_classes, in_shape=data.input_shape)\n",
        "\n",
        "    def fit(self, epochs=10, batch_size=128, verbose=1):\n",
        "        data = self.data   #코드복잡도를 줄이기위함\n",
        "        model = self.model\n",
        "\n",
        "        history = model.fit(data.X_train, data.Y_train, batch_size=batch_size, epochs=epochs,  #학습\n",
        "                            verbose=verbose, validation_data=(data.X_test, data.Y_test))\n",
        "        return history\n",
        "\n",
        "    def run(self, epochs=10, batch_size=128, verbose=1): #학습과 성능평가 전체를 진행\n",
        "        data = self.data  \n",
        "        model = self.model\n",
        "        fig = self.fig\n",
        "\n",
        "        history = self.fit(epochs=epochs,\n",
        "                           batch_size=batch_size, verbose=verbose)\n",
        "\n",
        "        score = model.evaluate(data.X_test, data.Y_test, verbose=0)\n",
        "\n",
        "        print('Confusion matrix')\n",
        "        Y_test_pred = model.predict(data.X_test, verbose=0)\n",
        "        y_test_pred = np.argmax(Y_test_pred, axis=1)  #이진->정수형으로\n",
        "        print(metrics.confusion_matrix(data.y_test, y_test_pred))  #confusion_matrix\n",
        "\n",
        "        print('Test score:', score[0])\n",
        "        print('Test accuracy:', score[1])\n",
        "\n",
        "        # Save results\n",
        "        #suffix = sfile.unique_filename('datatime')\n",
        "        suffix = unique_filename('datatime')\n",
        "        foldname = 'output_' + suffix\n",
        "        os.makedirs(foldname)\n",
        "        \n",
        "        #skeras.save_history_history(\n",
        "        save_history_history(\n",
        "            'history_history.npy', history.history, fold=foldname)\n",
        "        model.save_weights(os.path.join(foldname, 'dl_model.h5'))\n",
        "        print('Output results are saved in', foldname)\n",
        "          \n",
        "        if fig:  #플래그가 true이면 그림\n",
        "            #skeras.plot_acc_loss(history)\n",
        "            plot_acc_loss(history)\n",
        "            '''\n",
        "            plt.figure(figsize=(12,4))\n",
        "            plt.subplot(1,2,1)\n",
        "            skeras.plot_acc(history)\n",
        "            plt.subplot(1,2,2)\n",
        "            skeras.plot_loss(history)\n",
        "            plt.show()\n",
        "            '''\n",
        "        self.history = history\n",
        "\n",
        "        return foldname"
      ],
      "execution_count": 0,
      "outputs": []
    },
    {
      "metadata": {
        "id": "Dasps43t5KAy",
        "colab_type": "code",
        "colab": {
          "base_uri": "https://localhost:8080/",
          "height": 1498
        },
        "outputId": "3ca81a7f-5c38-4b34-9633-bc0e6a68cc60"
      },
      "cell_type": "code",
      "source": [
        "from keras import datasets\n",
        "import keras\n",
        "assert keras.backend.image_data_format() == 'channels_last'\n",
        "\n",
        "##from keraspp import aicnn\n",
        "\n",
        "\n",
        "class Machine(Machine):\n",
        "    def __init__(self):\n",
        "        (X, y), (x_test, y_test) = datasets.cifar10.load_data()\n",
        "        super().__init__(X, y, nb_classes=10)\n",
        "\n",
        "\n",
        "def main():\n",
        "    m = Machine()\n",
        "    m.run()\n",
        "\n",
        "if __name__ == '__main__':\n",
        "    main()"
      ],
      "execution_count": 0,
      "outputs": [
        {
          "output_type": "stream",
          "text": [
            "(40000, 32, 32, 3) (40000, 1)\n",
            "X_train shape: (40000, 32, 32, 3)\n",
            "40000 train samples\n",
            "10000 test samples\n",
            "data.input_shape (32, 32, 3)\n",
            "Train on 40000 samples, validate on 10000 samples\n",
            "Epoch 1/10\n",
            "40000/40000 [==============================] - 9s 224us/step - loss: 1.8856 - acc: 0.3162 - val_loss: 1.5821 - val_acc: 0.4424\n",
            "Epoch 2/10\n",
            "40000/40000 [==============================] - 8s 197us/step - loss: 1.4569 - acc: 0.4813 - val_loss: 1.3290 - val_acc: 0.5307\n",
            "Epoch 3/10\n",
            "40000/40000 [==============================] - 8s 196us/step - loss: 1.2736 - acc: 0.5479 - val_loss: 1.1616 - val_acc: 0.5812\n",
            "Epoch 4/10\n",
            "40000/40000 [==============================] - 8s 196us/step - loss: 1.1488 - acc: 0.5950 - val_loss: 1.2343 - val_acc: 0.5741\n",
            "Epoch 5/10\n",
            "40000/40000 [==============================] - 8s 197us/step - loss: 1.0552 - acc: 0.6313 - val_loss: 1.0773 - val_acc: 0.6144\n",
            "Epoch 6/10\n",
            "40000/40000 [==============================] - 8s 196us/step - loss: 0.9841 - acc: 0.6542 - val_loss: 0.9772 - val_acc: 0.6647\n",
            "Epoch 7/10\n",
            "40000/40000 [==============================] - 8s 197us/step - loss: 0.9164 - acc: 0.6794 - val_loss: 1.0130 - val_acc: 0.6452\n",
            "Epoch 8/10\n",
            "40000/40000 [==============================] - 8s 197us/step - loss: 0.8610 - acc: 0.6984 - val_loss: 0.9213 - val_acc: 0.6778\n",
            "Epoch 9/10\n",
            "40000/40000 [==============================] - 8s 198us/step - loss: 0.8039 - acc: 0.7188 - val_loss: 0.9212 - val_acc: 0.6891\n",
            "Epoch 10/10\n",
            "40000/40000 [==============================] - 8s 196us/step - loss: 0.7521 - acc: 0.7365 - val_loss: 0.9269 - val_acc: 0.6856\n",
            "Confusion matrix\n",
            "[[786  37  27  13   1   7   8   3  88  34]\n",
            " [ 30 850   1   7   1   1   4   1  21  70]\n",
            " [107  10 636  67  36  42  50  32  27   9]\n",
            " [ 64  23  78 607  23  92  64  30  31  18]\n",
            " [ 81  15 147  79 468  23  60  77  10   7]\n",
            " [ 30  14 104 261  19 494  28  37  15  14]\n",
            " [ 10  20  72  78  15  10 719   3  13  13]\n",
            " [ 40  10  41  63  43  43   7 719   5  28]\n",
            " [ 95  54   9  13   1   3   4   1 782  27]\n",
            " [ 47 145   2  13   1   2   2   7  26 795]]\n",
            "Test score: 0.9269258306503296\n",
            "Test accuracy: 0.6856\n",
            "Output results are saved in output_e2ec92af-a04c-465c-968b-3d50e02ea48d\n"
          ],
          "name": "stdout"
        },
        {
          "output_type": "display_data",
          "data": {
            "image/png": "[encoded data removed]",
            "text/plain": [
              "<matplotlib.figure.Figure at 0x7f2806ffb6a0>"
            ]
          },
          "metadata": {
            "tags": []
          }
        },
        {
          "output_type": "display_data",
          "data": {
            "image/png": "[encoded data removed]",
            "text/plain": [
              "<matplotlib.figure.Figure at 0x7f29236367f0>"
            ]
          },
          "metadata": {
            "tags": []
          }
        }
      ]
    },
    {
      "metadata": {
        "id": "B330J-N85Jk9",
        "colab_type": "code",
        "colab": {}
      },
      "cell_type": "code",
      "source": [
        ""
      ],
      "execution_count": 0,
      "outputs": []
    }
  ]
}