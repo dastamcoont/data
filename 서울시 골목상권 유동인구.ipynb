{
 "cells": [
  {
   "cell_type": "markdown",
   "metadata": {},
   "source": [
    "<h2>서울시 골목상권 유동인구</h2>"
   ]
  },
  {
   "cell_type": "markdown",
   "metadata": {},
   "source": [
    "<h5>기본예제</h5>"
   ]
  },
  {
   "cell_type": "code",
   "execution_count": 1,
   "metadata": {},
   "outputs": [],
   "source": [
    "import pandas as pd\n",
    "from bs4 import BeautifulSoup\n",
    "import requests"
   ]
  },
  {
   "cell_type": "code",
   "execution_count": 2,
   "metadata": {},
   "outputs": [],
   "source": [
    "url='http://openapi.seoul.go.kr:8088/access key/xml/InfoTrdarFlpop/1/5/201711'\n",
    "req=requests.get(url)\n",
    "html=req.text\n",
    "soup=BeautifulSoup(html, 'html.parser')\n",
    "codenumber = soup.find_all('trdar_cd')"
   ]
  },
  {
   "cell_type": "code",
   "execution_count": null,
   "metadata": {},
   "outputs": [],
   "source": [
    "print(html)"
   ]
  },
  {
   "cell_type": "code",
   "execution_count": null,
   "metadata": {},
   "outputs": [],
   "source": [
    "print(soup)"
   ]
  },
  {
   "cell_type": "code",
   "execution_count": 3,
   "metadata": {},
   "outputs": [
    {
     "name": "stdout",
     "output_type": "stream",
     "text": [
      "[<trdar_cd>000001</trdar_cd>, <trdar_cd>000002</trdar_cd>, <trdar_cd>000003</trdar_cd>, <trdar_cd>000004</trdar_cd>, <trdar_cd>000005</trdar_cd>]\n"
     ]
    }
   ],
   "source": [
    "print(codenumber)"
   ]
  },
  {
   "cell_type": "code",
   "execution_count": 4,
   "metadata": {},
   "outputs": [
    {
     "name": "stdout",
     "output_type": "stream",
     "text": [
      "<trdar_cd>000001</trdar_cd>\n"
     ]
    }
   ],
   "source": [
    "print(codenumber[0])"
   ]
  },
  {
   "cell_type": "code",
   "execution_count": 5,
   "metadata": {},
   "outputs": [
    {
     "name": "stdout",
     "output_type": "stream",
     "text": [
      "000001\n"
     ]
    }
   ],
   "source": [
    "print(codenumber[0].text)"
   ]
  },
  {
   "cell_type": "markdown",
   "metadata": {},
   "source": [
    "<h5> 상권코드번호, 상권코드명, 총유동인구수, 총 남성 유동인구수, 총 여성 유동 인구수,\n",
    "      연령대 10~60이상 유동인구 수  데이터 수집</h5>"
   ]
  },
  {
   "cell_type": "code",
   "execution_count": 6,
   "metadata": {},
   "outputs": [],
   "source": [
    "import pandas as pd\n",
    "from bs4 import BeautifulSoup\n",
    "import requests"
   ]
  },
  {
   "cell_type": "code",
   "execution_count": 7,
   "metadata": {},
   "outputs": [],
   "source": [
    "startnumber=1\n",
    "endnumber=1000\n",
    "CommerceInfor = {}\n",
    "\n",
    "codelist = []\n",
    "codenamelist = []\n",
    "totalnumberlist = []\n",
    "maletotallist = []\n",
    "femaletotallist = []\n",
    "agrade_10list = []\n",
    "agrade_20list = []\n",
    "agrade_30list = []\n",
    "agrade_40list = []\n",
    "agrade_50list = []\n",
    "above_60list = []"
   ]
  },
  {
   "cell_type": "code",
   "execution_count": 8,
   "metadata": {},
   "outputs": [],
   "source": [
    "while endnumber<=2000:\n",
    "    url='http://openapi.seoul.go.kr:8088/access key/xml/InfoTrdarFlpop/'+str(startnumber)+'/'+str(endnumber)+ '/201711'\n",
    "    req = requests.get(url)\n",
    "    html = req.text\n",
    "    soup = BeautifulSoup(html, 'html.parser')\n",
    "    codenumber = soup.find_all('trdar_cd')\n",
    "    codename = soup.find_all('trdar_cd_nm')\n",
    "    totalnumber = soup.find_all('tot_flpop_co')\n",
    "    maletotal = soup.find_all('ml_flpop_co')\n",
    "    femaletotal = soup.find_all('fml_flpop_co')\n",
    "    agrade_10 = soup.find_all('agrde_10_flpop_co')\n",
    "    agrade_20 = soup.find_all('agrde_20_flpop_co')\n",
    "    agrade_30 = soup.find_all('agrde_30_flpop_co')\n",
    "    agrade_40 = soup.find_all('agrde_40_flpop_co')\n",
    "    agrade_50 = soup.find_all('agrde_50_flpop_co')\n",
    "    above_60 = soup.find_all('agrde_60_above_flpop_co')\n",
    "    for code in codenumber:\n",
    "        codelist.append(code.text)\n",
    "    for code in codename:\n",
    "        codenamelist.append(code.text)\n",
    "    for code in totalnumber:\n",
    "        totalnumberlist.append(code.text)\n",
    "    for code in maletotal:\n",
    "        maletotallist.append(code.text)\n",
    "    for code in femaletotal:\n",
    "        femaletotallist.append(code.text)\n",
    "    for code in agrade_10:\n",
    "        agrade_10list.append(code.text)\n",
    "    for code in agrade_20:\n",
    "        agrade_20list.append(code.text)\n",
    "    for code in agrade_30:\n",
    "        agrade_30list.append(code.text)\n",
    "    for code in agrade_40:\n",
    "        agrade_40list.append(code.text)\n",
    "    for code in agrade_50:\n",
    "        agrade_50list.append(code.text)\n",
    "    for code in above_60:\n",
    "        above_60list.append(code.text)\n",
    "    startnumber+=1000\n",
    "    endnumber+=1000"
   ]
  },
  {
   "cell_type": "code",
   "execution_count": 9,
   "metadata": {},
   "outputs": [],
   "source": [
    "CommerceInfor['Code'] = codelist\n",
    "CommerceInfor['Name'] = codenamelist\n",
    "CommerceInfor['Total Number'] = totalnumberlist\n",
    "CommerceInfor['Male Total Number'] = maletotallist\n",
    "CommerceInfor['Female Total Number'] = femaletotallist\n",
    "CommerceInfor['Age 10s Number'] = agrade_10list\n",
    "CommerceInfor['Age 20s Number'] = agrade_20list\n",
    "CommerceInfor['Age 30s Number'] = agrade_30list\n",
    "CommerceInfor['Age 40s Number'] = agrade_40list\n",
    "CommerceInfor['Age 50s Number'] = agrade_50list\n",
    "CommerceInfor['Age above 60s Number'] = above_60list\n",
    "df = pd.DataFrame(CommerceInfor)"
   ]
  },
  {
   "cell_type": "code",
   "execution_count": 10,
   "metadata": {},
   "outputs": [],
   "source": [
    "#열 순서 지정\n",
    "df = df[['Code','Name', 'Total Number','Male Total Number','Female Total Number','Age 10s Number','Age 20s Number','Age 30s Number','Age 40s Number','Age 50s Number','Age above 60s Number']]"
   ]
  },
  {
   "cell_type": "code",
   "execution_count": 16,
   "metadata": {},
   "outputs": [
    {
     "data": {
      "text/html": [
       "<div>\n",
       "<style scoped>\n",
       "    .dataframe tbody tr th:only-of-type {\n",
       "        vertical-align: middle;\n",
       "    }\n",
       "\n",
       "    .dataframe tbody tr th {\n",
       "        vertical-align: top;\n",
       "    }\n",
       "\n",
       "    .dataframe thead th {\n",
       "        text-align: right;\n",
       "    }\n",
       "</style>\n",
       "<table border=\"1\" class=\"dataframe\">\n",
       "  <thead>\n",
       "    <tr style=\"text-align: right;\">\n",
       "      <th></th>\n",
       "      <th>Code</th>\n",
       "      <th>Name</th>\n",
       "      <th>Total Number</th>\n",
       "      <th>Male Total Number</th>\n",
       "      <th>Female Total Number</th>\n",
       "      <th>Age 10s Number</th>\n",
       "      <th>Age 20s Number</th>\n",
       "      <th>Age 30s Number</th>\n",
       "      <th>Age 40s Number</th>\n",
       "      <th>Age 50s Number</th>\n",
       "      <th>Age above 60s Number</th>\n",
       "    </tr>\n",
       "  </thead>\n",
       "  <tbody>\n",
       "    <tr>\n",
       "      <th>0</th>\n",
       "      <td>000001</td>\n",
       "      <td>가락로16길</td>\n",
       "      <td>4427</td>\n",
       "      <td>2204</td>\n",
       "      <td>2223</td>\n",
       "      <td>446</td>\n",
       "      <td>770</td>\n",
       "      <td>687</td>\n",
       "      <td>792</td>\n",
       "      <td>1050</td>\n",
       "      <td>682</td>\n",
       "    </tr>\n",
       "    <tr>\n",
       "      <th>1</th>\n",
       "      <td>000002</td>\n",
       "      <td>가락로28길</td>\n",
       "      <td>30189</td>\n",
       "      <td>14583</td>\n",
       "      <td>15607</td>\n",
       "      <td>2904</td>\n",
       "      <td>5285</td>\n",
       "      <td>5381</td>\n",
       "      <td>5132</td>\n",
       "      <td>6277</td>\n",
       "      <td>5211</td>\n",
       "    </tr>\n",
       "    <tr>\n",
       "      <th>2</th>\n",
       "      <td>000003</td>\n",
       "      <td>가락로36길</td>\n",
       "      <td>20629</td>\n",
       "      <td>11057</td>\n",
       "      <td>9572</td>\n",
       "      <td>2241</td>\n",
       "      <td>4287</td>\n",
       "      <td>4671</td>\n",
       "      <td>3437</td>\n",
       "      <td>3622</td>\n",
       "      <td>2372</td>\n",
       "    </tr>\n",
       "    <tr>\n",
       "      <th>3</th>\n",
       "      <td>000004</td>\n",
       "      <td>가로공원로76길</td>\n",
       "      <td>44851</td>\n",
       "      <td>21345</td>\n",
       "      <td>23507</td>\n",
       "      <td>2897</td>\n",
       "      <td>8086</td>\n",
       "      <td>9423</td>\n",
       "      <td>8247</td>\n",
       "      <td>8341</td>\n",
       "      <td>7857</td>\n",
       "    </tr>\n",
       "    <tr>\n",
       "      <th>4</th>\n",
       "      <td>000005</td>\n",
       "      <td>가마산로12길</td>\n",
       "      <td>16335</td>\n",
       "      <td>8840</td>\n",
       "      <td>7495</td>\n",
       "      <td>101</td>\n",
       "      <td>2873</td>\n",
       "      <td>3462</td>\n",
       "      <td>3830</td>\n",
       "      <td>3577</td>\n",
       "      <td>2491</td>\n",
       "    </tr>\n",
       "    <tr>\n",
       "      <th>5</th>\n",
       "      <td>000006</td>\n",
       "      <td>가마산로15길</td>\n",
       "      <td>13616</td>\n",
       "      <td>7608</td>\n",
       "      <td>6008</td>\n",
       "      <td>261</td>\n",
       "      <td>2597</td>\n",
       "      <td>2912</td>\n",
       "      <td>3034</td>\n",
       "      <td>2800</td>\n",
       "      <td>2012</td>\n",
       "    </tr>\n",
       "    <tr>\n",
       "      <th>6</th>\n",
       "      <td>000007</td>\n",
       "      <td>가마산로61길</td>\n",
       "      <td>23348</td>\n",
       "      <td>12294</td>\n",
       "      <td>11054</td>\n",
       "      <td>1117</td>\n",
       "      <td>4925</td>\n",
       "      <td>3842</td>\n",
       "      <td>4910</td>\n",
       "      <td>5739</td>\n",
       "      <td>2814</td>\n",
       "    </tr>\n",
       "    <tr>\n",
       "      <th>7</th>\n",
       "      <td>000008</td>\n",
       "      <td>가마산로88길</td>\n",
       "      <td>18728</td>\n",
       "      <td>10444</td>\n",
       "      <td>8283</td>\n",
       "      <td>1816</td>\n",
       "      <td>3953</td>\n",
       "      <td>3367</td>\n",
       "      <td>2989</td>\n",
       "      <td>3470</td>\n",
       "      <td>3131</td>\n",
       "    </tr>\n",
       "    <tr>\n",
       "      <th>8</th>\n",
       "      <td>000009</td>\n",
       "      <td>가마산로89길</td>\n",
       "      <td>19622</td>\n",
       "      <td>9573</td>\n",
       "      <td>10048</td>\n",
       "      <td>1793</td>\n",
       "      <td>4010</td>\n",
       "      <td>3480</td>\n",
       "      <td>3638</td>\n",
       "      <td>3576</td>\n",
       "      <td>3125</td>\n",
       "    </tr>\n",
       "    <tr>\n",
       "      <th>9</th>\n",
       "      <td>000010</td>\n",
       "      <td>가산로3길</td>\n",
       "      <td>37801</td>\n",
       "      <td>22581</td>\n",
       "      <td>15220</td>\n",
       "      <td>50</td>\n",
       "      <td>11460</td>\n",
       "      <td>10588</td>\n",
       "      <td>6678</td>\n",
       "      <td>6382</td>\n",
       "      <td>2643</td>\n",
       "    </tr>\n",
       "  </tbody>\n",
       "</table>\n",
       "</div>"
      ],
      "text/plain": [
       "     Code      Name Total Number Male Total Number Female Total Number  \\\n",
       "0  000001    가락로16길         4427              2204                2223   \n",
       "1  000002    가락로28길        30189             14583               15607   \n",
       "2  000003    가락로36길        20629             11057                9572   \n",
       "3  000004  가로공원로76길        44851             21345               23507   \n",
       "4  000005   가마산로12길        16335              8840                7495   \n",
       "5  000006   가마산로15길        13616              7608                6008   \n",
       "6  000007   가마산로61길        23348             12294               11054   \n",
       "7  000008   가마산로88길        18728             10444                8283   \n",
       "8  000009   가마산로89길        19622              9573               10048   \n",
       "9  000010     가산로3길        37801             22581               15220   \n",
       "\n",
       "  Age 10s Number Age 20s Number Age 30s Number Age 40s Number Age 50s Number  \\\n",
       "0            446            770            687            792           1050   \n",
       "1           2904           5285           5381           5132           6277   \n",
       "2           2241           4287           4671           3437           3622   \n",
       "3           2897           8086           9423           8247           8341   \n",
       "4            101           2873           3462           3830           3577   \n",
       "5            261           2597           2912           3034           2800   \n",
       "6           1117           4925           3842           4910           5739   \n",
       "7           1816           3953           3367           2989           3470   \n",
       "8           1793           4010           3480           3638           3576   \n",
       "9             50          11460          10588           6678           6382   \n",
       "\n",
       "  Age above 60s Number  \n",
       "0                  682  \n",
       "1                 5211  \n",
       "2                 2372  \n",
       "3                 7857  \n",
       "4                 2491  \n",
       "5                 2012  \n",
       "6                 2814  \n",
       "7                 3131  \n",
       "8                 3125  \n",
       "9                 2643  "
      ]
     },
     "execution_count": 16,
     "metadata": {},
     "output_type": "execute_result"
    }
   ],
   "source": [
    "df.head(10)"
   ]
  },
  {
   "cell_type": "code",
   "execution_count": null,
   "metadata": {},
   "outputs": [],
   "source": []
  }
 ],
 "metadata": {
  "kernelspec": {
   "display_name": "Python 3",
   "language": "python",
   "name": "python3"
  },
  "language_info": {
   "codemirror_mode": {
    "name": "ipython",
    "version": 3
   },
   "file_extension": ".py",
   "mimetype": "text/x-python",
   "name": "python",
   "nbconvert_exporter": "python",
   "pygments_lexer": "ipython3",
   "version": "3.6.4"
  }
 },
 "nbformat": 4,
 "nbformat_minor": 2
}
